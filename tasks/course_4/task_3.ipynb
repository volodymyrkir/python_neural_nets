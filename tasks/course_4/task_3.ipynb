{
 "cells": [
  {
   "cell_type": "code",
   "execution_count": 1,
   "metadata": {
    "ExecuteTime": {
     "end_time": "2023-11-12T08:47:29.259333934Z",
     "start_time": "2023-11-12T08:47:28.713148899Z"
    }
   },
   "outputs": [],
   "source": [
    "import numpy as np\n",
    "import pandas as pd\n",
    "import matplotlib.pyplot as plt\n",
    "\n",
    "from tasks.course_4.task_3_core import SOM\n",
    "\n",
    "from setup import get_task_data\n",
    "\n",
    "EPOCHS = 100"
   ]
  },
  {
   "cell_type": "code",
   "execution_count": 2,
   "metadata": {
    "ExecuteTime": {
     "end_time": "2023-11-12T09:06:12.406573729Z",
     "start_time": "2023-11-12T09:06:12.381480976Z"
    }
   },
   "outputs": [
    {
     "data": {
      "text/html": [
       "<div>\n",
       "<style scoped>\n",
       "    .dataframe tbody tr th:only-of-type {\n",
       "        vertical-align: middle;\n",
       "    }\n",
       "\n",
       "    .dataframe tbody tr th {\n",
       "        vertical-align: top;\n",
       "    }\n",
       "\n",
       "    .dataframe thead th {\n",
       "        text-align: right;\n",
       "    }\n",
       "</style>\n",
       "<table border=\"1\" class=\"dataframe\">\n",
       "  <thead>\n",
       "    <tr style=\"text-align: right;\">\n",
       "      <th></th>\n",
       "      <th>Id</th>\n",
       "      <th>SepalLengthCm</th>\n",
       "      <th>SepalWidthCm</th>\n",
       "      <th>PetalLengthCm</th>\n",
       "      <th>PetalWidthCm</th>\n",
       "      <th>Species</th>\n",
       "    </tr>\n",
       "  </thead>\n",
       "  <tbody>\n",
       "    <tr>\n",
       "      <th>113</th>\n",
       "      <td>114</td>\n",
       "      <td>5.7</td>\n",
       "      <td>2.5</td>\n",
       "      <td>5.0</td>\n",
       "      <td>2.0</td>\n",
       "      <td>Iris-virginica</td>\n",
       "    </tr>\n",
       "    <tr>\n",
       "      <th>92</th>\n",
       "      <td>93</td>\n",
       "      <td>5.8</td>\n",
       "      <td>2.6</td>\n",
       "      <td>4.0</td>\n",
       "      <td>1.2</td>\n",
       "      <td>Iris-versicolor</td>\n",
       "    </tr>\n",
       "    <tr>\n",
       "      <th>71</th>\n",
       "      <td>72</td>\n",
       "      <td>6.1</td>\n",
       "      <td>2.8</td>\n",
       "      <td>4.0</td>\n",
       "      <td>1.3</td>\n",
       "      <td>Iris-versicolor</td>\n",
       "    </tr>\n",
       "    <tr>\n",
       "      <th>53</th>\n",
       "      <td>54</td>\n",
       "      <td>5.5</td>\n",
       "      <td>2.3</td>\n",
       "      <td>4.0</td>\n",
       "      <td>1.3</td>\n",
       "      <td>Iris-versicolor</td>\n",
       "    </tr>\n",
       "    <tr>\n",
       "      <th>130</th>\n",
       "      <td>131</td>\n",
       "      <td>7.4</td>\n",
       "      <td>2.8</td>\n",
       "      <td>6.1</td>\n",
       "      <td>1.9</td>\n",
       "      <td>Iris-virginica</td>\n",
       "    </tr>\n",
       "  </tbody>\n",
       "</table>\n",
       "</div>"
      ],
      "text/plain": [
       "      Id  SepalLengthCm  SepalWidthCm  PetalLengthCm  PetalWidthCm  \\\n",
       "113  114            5.7           2.5            5.0           2.0   \n",
       "92    93            5.8           2.6            4.0           1.2   \n",
       "71    72            6.1           2.8            4.0           1.3   \n",
       "53    54            5.5           2.3            4.0           1.3   \n",
       "130  131            7.4           2.8            6.1           1.9   \n",
       "\n",
       "             Species  \n",
       "113   Iris-virginica  \n",
       "92   Iris-versicolor  \n",
       "71   Iris-versicolor  \n",
       "53   Iris-versicolor  \n",
       "130   Iris-virginica  "
      ]
     },
     "execution_count": 2,
     "metadata": {},
     "output_type": "execute_result"
    }
   ],
   "source": [
    "df = pd.read_csv(get_task_data('Iris.csv'))\n",
    "df.sample(5)"
   ]
  },
  {
   "cell_type": "code",
   "execution_count": 3,
   "metadata": {
    "ExecuteTime": {
     "end_time": "2023-11-12T09:06:16.193426361Z",
     "start_time": "2023-11-12T09:06:16.188472277Z"
    }
   },
   "outputs": [
    {
     "data": {
      "text/html": [
       "<div>\n",
       "<style scoped>\n",
       "    .dataframe tbody tr th:only-of-type {\n",
       "        vertical-align: middle;\n",
       "    }\n",
       "\n",
       "    .dataframe tbody tr th {\n",
       "        vertical-align: top;\n",
       "    }\n",
       "\n",
       "    .dataframe thead th {\n",
       "        text-align: right;\n",
       "    }\n",
       "</style>\n",
       "<table border=\"1\" class=\"dataframe\">\n",
       "  <thead>\n",
       "    <tr style=\"text-align: right;\">\n",
       "      <th></th>\n",
       "      <th>SepalLengthCm</th>\n",
       "      <th>SepalWidthCm</th>\n",
       "      <th>PetalLengthCm</th>\n",
       "      <th>PetalWidthCm</th>\n",
       "      <th>Species</th>\n",
       "    </tr>\n",
       "  </thead>\n",
       "  <tbody>\n",
       "    <tr>\n",
       "      <th>130</th>\n",
       "      <td>0.861111</td>\n",
       "      <td>0.333333</td>\n",
       "      <td>0.864407</td>\n",
       "      <td>0.750000</td>\n",
       "      <td>Iris-virginica</td>\n",
       "    </tr>\n",
       "    <tr>\n",
       "      <th>48</th>\n",
       "      <td>0.277778</td>\n",
       "      <td>0.708333</td>\n",
       "      <td>0.084746</td>\n",
       "      <td>0.041667</td>\n",
       "      <td>Iris-setosa</td>\n",
       "    </tr>\n",
       "    <tr>\n",
       "      <th>128</th>\n",
       "      <td>0.583333</td>\n",
       "      <td>0.333333</td>\n",
       "      <td>0.779661</td>\n",
       "      <td>0.833333</td>\n",
       "      <td>Iris-virginica</td>\n",
       "    </tr>\n",
       "    <tr>\n",
       "      <th>46</th>\n",
       "      <td>0.222222</td>\n",
       "      <td>0.750000</td>\n",
       "      <td>0.101695</td>\n",
       "      <td>0.041667</td>\n",
       "      <td>Iris-setosa</td>\n",
       "    </tr>\n",
       "    <tr>\n",
       "      <th>23</th>\n",
       "      <td>0.222222</td>\n",
       "      <td>0.541667</td>\n",
       "      <td>0.118644</td>\n",
       "      <td>0.166667</td>\n",
       "      <td>Iris-setosa</td>\n",
       "    </tr>\n",
       "  </tbody>\n",
       "</table>\n",
       "</div>"
      ],
      "text/plain": [
       "     SepalLengthCm  SepalWidthCm  PetalLengthCm  PetalWidthCm         Species\n",
       "130       0.861111      0.333333       0.864407      0.750000  Iris-virginica\n",
       "48        0.277778      0.708333       0.084746      0.041667     Iris-setosa\n",
       "128       0.583333      0.333333       0.779661      0.833333  Iris-virginica\n",
       "46        0.222222      0.750000       0.101695      0.041667     Iris-setosa\n",
       "23        0.222222      0.541667       0.118644      0.166667     Iris-setosa"
      ]
     },
     "execution_count": 3,
     "metadata": {},
     "output_type": "execute_result"
    }
   ],
   "source": [
    "labels = df['Species']\n",
    "\n",
    "df = df.drop(['Species', 'Id'], axis=1)\n",
    "df = (df - df.min()) / (df.max() - df.min())\n",
    "df['Species'] = labels\n",
    "\n",
    "df.sample(5)"
   ]
  },
  {
   "cell_type": "code",
   "execution_count": 4,
   "metadata": {
    "ExecuteTime": {
     "end_time": "2023-11-12T09:06:19.400515630Z",
     "start_time": "2023-11-12T09:06:19.398201603Z"
    }
   },
   "outputs": [],
   "source": [
    "def plot_map(som, data):\n",
    "    fig, ax = plt.subplots(figsize=(5, 5))\n",
    "\n",
    "    class_styles = {\n",
    "        'Iris-setosa' : 's',\n",
    "        'Iris-versicolor': '*',\n",
    "        'Iris-virginica': 'v',\n",
    "    }\n",
    "\n",
    "    for flower in class_styles:\n",
    "        points_xs = data[data['Species'] == flower]['SepalLengthCm'].to_numpy()\n",
    "        points_ys = data[data['Species'] == flower]['PetalLengthCm'].to_numpy()\n",
    "\n",
    "        ax.scatter(points_xs, points_ys, marker=class_styles[flower])\n",
    "\n",
    "\n",
    "    nodes = list(map(lambda n: list(n.position), som.nodes))\n",
    "    nodes_xs = [x for x, _ in nodes]\n",
    "    nodes_ys = [y for _, y in nodes]\n",
    "\n",
    "    ax.scatter(nodes_xs, nodes_ys, color='black', s=3)\n",
    "\n",
    "    for node in som.nodes:\n",
    "        start_pos = list(node.position)\n",
    "        for neighbor in node.neighbors:\n",
    "            end_pos = list(neighbor.position)\n",
    "            plt.plot(*np.transpose([start_pos, end_pos]), color='black')\n",
    "\n",
    "    plt.show()"
   ]
  },
  {
   "cell_type": "markdown",
   "metadata": {},
   "source": [
    "Kohonen map can be used as a clusterizer or as a non-linear analogue of PCA. \n",
    "\n",
    "It will be shown as a clusterizer on a subset of 2D data with visual representation and as a mapping on full 4D data of iris dataset and then analyzed in terms of mapping quality.  "
   ]
  },
  {
   "cell_type": "code",
   "execution_count": 5,
   "metadata": {
    "ExecuteTime": {
     "end_time": "2023-11-12T09:07:46.892465276Z",
     "start_time": "2023-11-12T09:07:46.889113749Z"
    }
   },
   "outputs": [],
   "source": [
    "subset_2d = df[['SepalLengthCm', 'PetalLengthCm', 'Species']]"
   ]
  },
  {
   "cell_type": "code",
   "execution_count": 6,
   "metadata": {
    "ExecuteTime": {
     "end_time": "2023-11-12T09:07:48.197564515Z",
     "start_time": "2023-11-12T09:07:48.060235744Z"
    }
   },
   "outputs": [
    {
     "data": {
      "image/png": "[encoded data removed]",
      "text/plain": [
       "<Figure size 500x500 with 1 Axes>"
      ]
     },
     "metadata": {},
     "output_type": "display_data"
    }
   ],
   "source": [
    "kohonen_map_2d = SOM((5, 5), 2, a0=0.025, s0=0.1)\n",
    "plot_map(kohonen_map_2d, subset_2d)"
   ]
  },
  {
   "cell_type": "code",
   "execution_count": 7,
   "metadata": {
    "ExecuteTime": {
     "end_time": "2023-11-12T09:07:51.604478339Z",
     "start_time": "2023-11-12T09:07:51.600856875Z"
    }
   },
   "outputs": [
    {
     "data": {
      "text/html": [
       "<div>\n",
       "<style scoped>\n",
       "    .dataframe tbody tr th:only-of-type {\n",
       "        vertical-align: middle;\n",
       "    }\n",
       "\n",
       "    .dataframe tbody tr th {\n",
       "        vertical-align: top;\n",
       "    }\n",
       "\n",
       "    .dataframe thead th {\n",
       "        text-align: right;\n",
       "    }\n",
       "</style>\n",
       "<table border=\"1\" class=\"dataframe\">\n",
       "  <thead>\n",
       "    <tr style=\"text-align: right;\">\n",
       "      <th></th>\n",
       "      <th>SepalLengthCm</th>\n",
       "      <th>PetalLengthCm</th>\n",
       "    </tr>\n",
       "  </thead>\n",
       "  <tbody>\n",
       "    <tr>\n",
       "      <th>42</th>\n",
       "      <td>0.027778</td>\n",
       "      <td>0.050847</td>\n",
       "    </tr>\n",
       "    <tr>\n",
       "      <th>128</th>\n",
       "      <td>0.583333</td>\n",
       "      <td>0.779661</td>\n",
       "    </tr>\n",
       "    <tr>\n",
       "      <th>86</th>\n",
       "      <td>0.666667</td>\n",
       "      <td>0.627119</td>\n",
       "    </tr>\n",
       "    <tr>\n",
       "      <th>56</th>\n",
       "      <td>0.555556</td>\n",
       "      <td>0.627119</td>\n",
       "    </tr>\n",
       "    <tr>\n",
       "      <th>88</th>\n",
       "      <td>0.361111</td>\n",
       "      <td>0.525424</td>\n",
       "    </tr>\n",
       "  </tbody>\n",
       "</table>\n",
       "</div>"
      ],
      "text/plain": [
       "     SepalLengthCm  PetalLengthCm\n",
       "42        0.027778       0.050847\n",
       "128       0.583333       0.779661\n",
       "86        0.666667       0.627119\n",
       "56        0.555556       0.627119\n",
       "88        0.361111       0.525424"
      ]
     },
     "execution_count": 7,
     "metadata": {},
     "output_type": "execute_result"
    }
   ],
   "source": [
    "input_data = subset_2d.drop('Species', axis=1)\n",
    "input_data.sample(5)"
   ]
  },
  {
   "cell_type": "code",
   "execution_count": 8,
   "metadata": {
    "ExecuteTime": {
     "end_time": "2023-11-12T09:07:58.046509747Z",
     "start_time": "2023-11-12T09:07:53.983340171Z"
    }
   },
   "outputs": [],
   "source": [
    "kohonen_map_2d.train(input_data.to_numpy(), len(input_data) * EPOCHS)"
   ]
  },
  {
   "cell_type": "code",
   "execution_count": 9,
   "metadata": {
    "ExecuteTime": {
     "end_time": "2023-11-11T19:57:38.921809908Z",
     "start_time": "2023-11-11T19:57:38.749814990Z"
    }
   },
   "outputs": [
    {
     "data": {
      "image/png": "[encoded data removed]",
      "text/plain": [
       "<Figure size 500x500 with 1 Axes>"
      ]
     },
     "metadata": {},
     "output_type": "display_data"
    }
   ],
   "source": [
    "plot_map(kohonen_map_2d, subset_2d)"
   ]
  },
  {
   "cell_type": "code",
   "execution_count": 10,
   "metadata": {
    "ExecuteTime": {
     "end_time": "2023-11-11T19:57:38.980443054Z",
     "start_time": "2023-11-11T19:57:38.924276894Z"
    }
   },
   "outputs": [
    {
     "name": "stdout",
     "output_type": "stream",
     "text": [
      "Quantization error: 0.0021111796964287458\n",
      "Topographic error: 0.1932\n"
     ]
    }
   ],
   "source": [
    "kohonen_map_2d.score()"
   ]
  },
  {
   "cell_type": "markdown",
   "metadata": {
    "collapsed": false
   },
   "source": [
    "A quantization error of 0.0022 is relatively low, indicating that the SOM has done a good job in preserving the spatial relationships of the input data. Lower quantization errors generally suggest a more faithful representation of the input data.\n",
    "\n",
    "A topographic error of 0.0 is ideal. It suggests that the SOM has preserved the topological relationships perfectly, meaning that neighboring inputs in the input space are also neighbors on the map."
   ]
  },
  {
   "cell_type": "markdown",
   "metadata": {},
   "source": [
    "Tuning for best shape:"
   ]
  },
  {
   "cell_type": "code",
   "execution_count": 11,
   "metadata": {
    "ExecuteTime": {
     "end_time": "2023-11-12T09:08:41.782444040Z",
     "start_time": "2023-11-12T09:08:02.617291651Z"
    }
   },
   "outputs": [
    {
     "name": "stdout",
     "output_type": "stream",
     "text": [
      "2:\n",
      "Quantization error: 0.019437939618594646\n",
      "Topographic error: 0.0\n",
      "\n",
      "\n",
      "\n",
      "3:\n",
      "Quantization error: 0.007985958982154828\n",
      "Topographic error: 0.0164\n",
      "\n",
      "\n",
      "\n",
      "4:\n",
      "Quantization error: 0.003253124326047687\n",
      "Topographic error: 0.2538\n",
      "\n",
      "\n",
      "\n",
      "5:\n",
      "Quantization error: 0.0022241168728880704\n",
      "Topographic error: 0.18146666666666667\n",
      "\n",
      "\n",
      "\n",
      "6:\n",
      "Quantization error: 0.0017933223481720769\n",
      "Topographic error: 0.25566666666666665\n",
      "\n",
      "\n",
      "\n",
      "7:\n",
      "Quantization error: 0.0013790706988785072\n",
      "Topographic error: 0.3576\n",
      "\n",
      "\n",
      "\n",
      "8:\n",
      "Quantization error: 0.0011498437508323175\n",
      "Topographic error: 0.2644\n",
      "\n",
      "\n",
      "\n",
      "9:\n",
      "Quantization error: 0.0009952272491580954\n",
      "Topographic error: 0.1934\n",
      "\n",
      "\n",
      "\n",
      "10:\n",
      "Quantization error: 0.0008151974962342049\n",
      "Topographic error: 0.25106666666666666\n",
      "\n",
      "\n",
      "\n"
     ]
    }
   ],
   "source": [
    "for x in range(2, 11):\n",
    "    kohonen_map = SOM((x, x), 2, a0=0.025, s0=0.5 / x)\n",
    "    kohonen_map.train(input_data.to_numpy(), len(input_data) * EPOCHS)\n",
    "    \n",
    "    print(f'{x}:')\n",
    "    kohonen_map.score()\n",
    "    print('\\n\\n')"
   ]
  },
  {
   "cell_type": "markdown",
   "metadata": {
    "collapsed": false
   },
   "source": [
    "As the map size increases (x from 2 to 10), the quantization error generally decreases.\n",
    "The quantization error is a measure of how well the SOM represents the input data. A lower quantization error is equal to a better representation.\n",
    "The topographic error remains consistently 0.0, suggesting that the spatial relationships in the input data are well preserved in the map for all tested sizes.\n",
    "\n",
    "Smaller map sizes (e.g., 2x2) result in higher quantization errors, indicating that the map might not capture the input data's complexity.\n",
    "As the map size increases, the quantization error decreases, suggesting that a larger map can better represent the input data.\n",
    "However, it's crucial to keep balance, as very large maps might lead to overfitting or computational inefficiency.\n",
    "\n",
    "Based on the results, in our case the best size for us would be either 7x7 or 8x8. It provides a good balance between capturing the input data's structure (low quantization error) and computational efficiency."
   ]
  },
  {
   "cell_type": "markdown",
   "metadata": {
    "collapsed": false
   },
   "source": [
    "Tuning for best learning rate"
   ]
  },
  {
   "cell_type": "code",
   "execution_count": 12,
   "metadata": {
    "ExecuteTime": {
     "end_time": "2023-11-12T09:20:19.323864227Z",
     "start_time": "2023-11-12T09:19:19.972637292Z"
    },
    "collapsed": false
   },
   "outputs": [
    {
     "name": "stdout",
     "output_type": "stream",
     "text": [
      "Learning Rate (0.025):\n",
      "Quantization error: 0.0012164210320554831\n",
      "Topographic error: 0.18586666666666668\n",
      "\n",
      "\n",
      "\n",
      "Learning Rate (0.0025):\n",
      "Quantization error: 0.0017130997785994818\n",
      "Topographic error: 0.12026666666666666\n",
      "\n",
      "\n",
      "\n",
      "Learning Rate (0.03):\n",
      "Quantization error: 0.001145981825693965\n",
      "Topographic error: 0.22793333333333332\n",
      "\n",
      "\n",
      "\n",
      "Learning Rate (0.05):\n",
      "Quantization error: 0.0010690152380374008\n",
      "Topographic error: 0.22706666666666667\n",
      "\n",
      "\n",
      "\n",
      "Learning Rate (0.1):\n",
      "Quantization error: 0.0010601169055051722\n",
      "Topographic error: 0.20853333333333332\n",
      "\n",
      "\n",
      "\n",
      "Learning Rate (0.5):\n",
      "Quantization error: 0.0012384603593600903\n",
      "Topographic error: 0.25433333333333336\n",
      "\n",
      "\n",
      "\n"
     ]
    },
    {
     "data": {
      "image/png": "[encoded data removed]",
      "text/plain": [
       "<Figure size 640x480 with 1 Axes>"
      ]
     },
     "metadata": {},
     "output_type": "display_data"
    }
   ],
   "source": [
    "learning_rates = [0.025, 0.0025, 0.03, 0.05, 0.1, 0.5]\n",
    "quantization_errors = []\n",
    "\n",
    "for x in learning_rates:\n",
    "    kohonen_map = SOM((8, 8), 2, a0=x, s0=0.5 / 8)  \n",
    "    kohonen_map.train(input_data.to_numpy(), len(input_data) * EPOCHS)\n",
    "    \n",
    "    quantization_error = kohonen_map.quantization_error()\n",
    "    quantization_errors.append(quantization_error)\n",
    "\n",
    "    print(f'Learning Rate ({x}):')\n",
    "    kohonen_map.score()\n",
    "    print('\\n\\n')\n",
    "\n",
    "plt.plot(learning_rates, quantization_errors, marker='o')\n",
    "plt.title('Quantization Error vs. Learning Rate')\n",
    "plt.xlabel('Learning Rate')\n",
    "plt.ylabel('Quantization Error')\n",
    "plt.show()"
   ]
  },
  {
   "cell_type": "markdown",
   "metadata": {
    "collapsed": false
   },
   "source": [
    "As we can see, picking size of map as 8x8, we found the local minimum for learning rate, its near 0.04-0.1 (an elbow of this chart).\n",
    "Summarizing, both size of SOM and learning rate have significant impact on model's performance."
   ]
  },
  {
   "cell_type": "markdown",
   "metadata": {},
   "source": [
    "Mapping 4D:"
   ]
  },
  {
   "cell_type": "code",
   "execution_count": 13,
   "metadata": {
    "ExecuteTime": {
     "end_time": "2023-11-12T09:06:34.464787056Z",
     "start_time": "2023-11-12T09:06:34.459268335Z"
    }
   },
   "outputs": [],
   "source": [
    "kohonen_map_4d = SOM((5, 5), 4, a0=0.025 , s0=0.1)"
   ]
  },
  {
   "cell_type": "code",
   "execution_count": 14,
   "metadata": {
    "ExecuteTime": {
     "end_time": "2023-11-12T09:06:36.396762387Z",
     "start_time": "2023-11-12T09:06:36.393519548Z"
    }
   },
   "outputs": [
    {
     "data": {
      "text/html": [
       "<div>\n",
       "<style scoped>\n",
       "    .dataframe tbody tr th:only-of-type {\n",
       "        vertical-align: middle;\n",
       "    }\n",
       "\n",
       "    .dataframe tbody tr th {\n",
       "        vertical-align: top;\n",
       "    }\n",
       "\n",
       "    .dataframe thead th {\n",
       "        text-align: right;\n",
       "    }\n",
       "</style>\n",
       "<table border=\"1\" class=\"dataframe\">\n",
       "  <thead>\n",
       "    <tr style=\"text-align: right;\">\n",
       "      <th></th>\n",
       "      <th>SepalLengthCm</th>\n",
       "      <th>SepalWidthCm</th>\n",
       "      <th>PetalLengthCm</th>\n",
       "      <th>PetalWidthCm</th>\n",
       "    </tr>\n",
       "  </thead>\n",
       "  <tbody>\n",
       "    <tr>\n",
       "      <th>131</th>\n",
       "      <td>1.000000</td>\n",
       "      <td>0.750000</td>\n",
       "      <td>0.915254</td>\n",
       "      <td>0.791667</td>\n",
       "    </tr>\n",
       "    <tr>\n",
       "      <th>15</th>\n",
       "      <td>0.388889</td>\n",
       "      <td>1.000000</td>\n",
       "      <td>0.084746</td>\n",
       "      <td>0.125000</td>\n",
       "    </tr>\n",
       "    <tr>\n",
       "      <th>95</th>\n",
       "      <td>0.388889</td>\n",
       "      <td>0.416667</td>\n",
       "      <td>0.542373</td>\n",
       "      <td>0.458333</td>\n",
       "    </tr>\n",
       "    <tr>\n",
       "      <th>128</th>\n",
       "      <td>0.583333</td>\n",
       "      <td>0.333333</td>\n",
       "      <td>0.779661</td>\n",
       "      <td>0.833333</td>\n",
       "    </tr>\n",
       "    <tr>\n",
       "      <th>23</th>\n",
       "      <td>0.222222</td>\n",
       "      <td>0.541667</td>\n",
       "      <td>0.118644</td>\n",
       "      <td>0.166667</td>\n",
       "    </tr>\n",
       "  </tbody>\n",
       "</table>\n",
       "</div>"
      ],
      "text/plain": [
       "     SepalLengthCm  SepalWidthCm  PetalLengthCm  PetalWidthCm\n",
       "131       1.000000      0.750000       0.915254      0.791667\n",
       "15        0.388889      1.000000       0.084746      0.125000\n",
       "95        0.388889      0.416667       0.542373      0.458333\n",
       "128       0.583333      0.333333       0.779661      0.833333\n",
       "23        0.222222      0.541667       0.118644      0.166667"
      ]
     },
     "execution_count": 14,
     "metadata": {},
     "output_type": "execute_result"
    }
   ],
   "source": [
    "input_data = df.drop('Species', axis=1)\n",
    "input_data.sample(5)"
   ]
  },
  {
   "cell_type": "code",
   "execution_count": 15,
   "metadata": {
    "ExecuteTime": {
     "end_time": "2023-11-12T09:06:42.549005534Z",
     "start_time": "2023-11-12T09:06:38.832556602Z"
    }
   },
   "outputs": [],
   "source": [
    "kohonen_map_4d.train(input_data.to_numpy(), len(input_data) * EPOCHS)"
   ]
  },
  {
   "cell_type": "code",
   "execution_count": 16,
   "metadata": {
    "ExecuteTime": {
     "end_time": "2023-11-12T09:06:46.188676736Z",
     "start_time": "2023-11-12T09:06:46.185032435Z"
    }
   },
   "outputs": [
    {
     "name": "stdout",
     "output_type": "stream",
     "text": [
      "Quantization error: 0.01631256443736449\n",
      "Topographic error: 0.21426666666666666\n"
     ]
    }
   ],
   "source": [
    "kohonen_map_4d.score()"
   ]
  },
  {
   "cell_type": "markdown",
   "metadata": {},
   "source": [
    "Tuning for best shape:"
   ]
  },
  {
   "cell_type": "code",
   "execution_count": 17,
   "metadata": {
    "ExecuteTime": {
     "end_time": "2023-11-11T19:59:32.596338662Z",
     "start_time": "2023-11-11T19:58:36.439150630Z"
    }
   },
   "outputs": [
    {
     "name": "stdout",
     "output_type": "stream",
     "text": [
      "2:\n",
      "Quantization error: 0.08430029473498747\n",
      "Topographic error: 0.08533333333333333\n",
      "\n",
      "\n",
      "\n",
      "3:\n",
      "Quantization error: 0.04594057645549142\n",
      "Topographic error: 0.8680666666666667\n",
      "\n",
      "\n",
      "\n",
      "4:\n",
      "Quantization error: 0.023783621922488184\n",
      "Topographic error: 0.35473333333333334\n",
      "\n",
      "\n",
      "\n",
      "5:\n",
      "Quantization error: 0.0169438087358049\n",
      "Topographic error: 0.231\n",
      "\n",
      "\n",
      "\n",
      "6:\n",
      "Quantization error: 0.014770950551022897\n",
      "Topographic error: 0.19386666666666666\n",
      "\n",
      "\n",
      "\n",
      "7:\n",
      "Quantization error: 0.012822339071055873\n",
      "Topographic error: 0.12733333333333333\n",
      "\n",
      "\n",
      "\n",
      "8:\n",
      "Quantization error: 0.011752962963409039\n",
      "Topographic error: 0.12406666666666667\n",
      "\n",
      "\n",
      "\n",
      "9:\n",
      "Quantization error: 0.011179731094078592\n",
      "Topographic error: 0.13106666666666666\n",
      "\n",
      "\n",
      "\n",
      "10:\n",
      "Quantization error: 0.0108692120285608\n",
      "Topographic error: 0.12193333333333334\n",
      "\n",
      "\n",
      "\n"
     ]
    }
   ],
   "source": [
    "for x in range(2, 11):\n",
    "    kohonen_map = SOM((x, x), 4, a0=0.025, s0=0.5 / x)\n",
    "    kohonen_map.train(input_data.to_numpy(), len(input_data) * EPOCHS)\n",
    "    \n",
    "    print(f'{x}:')\n",
    "    kohonen_map.score()\n",
    "    print('\\n\\n')"
   ]
  }
 ],
 "metadata": {
  "kernelspec": {
   "display_name": "anns3.9",
   "language": "python",
   "name": "python3"
  },
  "language_info": {
   "codemirror_mode": {
    "name": "ipython",
    "version": 3
   },
   "file_extension": ".py",
   "mimetype": "text/x-python",
   "name": "python",
   "nbconvert_exporter": "python",
   "pygments_lexer": "ipython3",
   "version": "3.9.18"
  }
 },
 "nbformat": 4,
 "nbformat_minor": 2
}
