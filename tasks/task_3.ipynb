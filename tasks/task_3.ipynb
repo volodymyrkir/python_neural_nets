{
 "cells": [
  {
   "cell_type": "code",
   "execution_count": 1,
   "metadata": {
    "ExecuteTime": {
     "end_time": "2023-11-11T19:57:34.453962295Z",
     "start_time": "2023-11-11T19:57:33.802699220Z"
    }
   },
   "outputs": [],
   "source": [
    "import numpy as np\n",
    "import pandas as pd\n",
    "import matplotlib.pyplot as plt\n",
    "\n",
    "from task_3_core.som import SOM \n",
    "\n",
    "from setup import get_task_data\n",
    "\n",
    "EPOCHS = 100"
   ]
  },
  {
   "cell_type": "code",
   "execution_count": 2,
   "metadata": {
    "ExecuteTime": {
     "end_time": "2023-11-11T19:57:34.473036024Z",
     "start_time": "2023-11-11T19:57:34.455409865Z"
    }
   },
   "outputs": [
    {
     "data": {
      "text/plain": "      Id  SepalLengthCm  SepalWidthCm  PetalLengthCm  PetalWidthCm  \\\n118  119            7.7           2.6            6.9           2.3   \n20    21            5.4           3.4            1.7           0.2   \n133  134            6.3           2.8            5.1           1.5   \n26    27            5.0           3.4            1.6           0.4   \n43    44            5.0           3.5            1.6           0.6   \n\n            Species  \n118  Iris-virginica  \n20      Iris-setosa  \n133  Iris-virginica  \n26      Iris-setosa  \n43      Iris-setosa  ",
      "text/html": "<div>\n<style scoped>\n    .dataframe tbody tr th:only-of-type {\n        vertical-align: middle;\n    }\n\n    .dataframe tbody tr th {\n        vertical-align: top;\n    }\n\n    .dataframe thead th {\n        text-align: right;\n    }\n</style>\n<table border=\"1\" class=\"dataframe\">\n  <thead>\n    <tr style=\"text-align: right;\">\n      <th></th>\n      <th>Id</th>\n      <th>SepalLengthCm</th>\n      <th>SepalWidthCm</th>\n      <th>PetalLengthCm</th>\n      <th>PetalWidthCm</th>\n      <th>Species</th>\n    </tr>\n  </thead>\n  <tbody>\n    <tr>\n      <th>118</th>\n      <td>119</td>\n      <td>7.7</td>\n      <td>2.6</td>\n      <td>6.9</td>\n      <td>2.3</td>\n      <td>Iris-virginica</td>\n    </tr>\n    <tr>\n      <th>20</th>\n      <td>21</td>\n      <td>5.4</td>\n      <td>3.4</td>\n      <td>1.7</td>\n      <td>0.2</td>\n      <td>Iris-setosa</td>\n    </tr>\n    <tr>\n      <th>133</th>\n      <td>134</td>\n      <td>6.3</td>\n      <td>2.8</td>\n      <td>5.1</td>\n      <td>1.5</td>\n      <td>Iris-virginica</td>\n    </tr>\n    <tr>\n      <th>26</th>\n      <td>27</td>\n      <td>5.0</td>\n      <td>3.4</td>\n      <td>1.6</td>\n      <td>0.4</td>\n      <td>Iris-setosa</td>\n    </tr>\n    <tr>\n      <th>43</th>\n      <td>44</td>\n      <td>5.0</td>\n      <td>3.5</td>\n      <td>1.6</td>\n      <td>0.6</td>\n      <td>Iris-setosa</td>\n    </tr>\n  </tbody>\n</table>\n</div>"
     },
     "execution_count": 2,
     "metadata": {},
     "output_type": "execute_result"
    }
   ],
   "source": [
    "df = pd.read_csv(get_task_data('Iris.csv'))\n",
    "df.sample(5)"
   ]
  },
  {
   "cell_type": "code",
   "execution_count": 3,
   "metadata": {
    "ExecuteTime": {
     "end_time": "2023-11-11T19:57:34.486191967Z",
     "start_time": "2023-11-11T19:57:34.475218864Z"
    }
   },
   "outputs": [
    {
     "data": {
      "text/plain": "     SepalLengthCm  SepalWidthCm  PetalLengthCm  PetalWidthCm          Species\n138       0.472222      0.416667       0.644068      0.708333   Iris-virginica\n94        0.361111      0.291667       0.542373      0.500000  Iris-versicolor\n110       0.611111      0.500000       0.694915      0.791667   Iris-virginica\n126       0.527778      0.333333       0.644068      0.708333   Iris-virginica\n44        0.222222      0.750000       0.152542      0.125000      Iris-setosa",
      "text/html": "<div>\n<style scoped>\n    .dataframe tbody tr th:only-of-type {\n        vertical-align: middle;\n    }\n\n    .dataframe tbody tr th {\n        vertical-align: top;\n    }\n\n    .dataframe thead th {\n        text-align: right;\n    }\n</style>\n<table border=\"1\" class=\"dataframe\">\n  <thead>\n    <tr style=\"text-align: right;\">\n      <th></th>\n      <th>SepalLengthCm</th>\n      <th>SepalWidthCm</th>\n      <th>PetalLengthCm</th>\n      <th>PetalWidthCm</th>\n      <th>Species</th>\n    </tr>\n  </thead>\n  <tbody>\n    <tr>\n      <th>138</th>\n      <td>0.472222</td>\n      <td>0.416667</td>\n      <td>0.644068</td>\n      <td>0.708333</td>\n      <td>Iris-virginica</td>\n    </tr>\n    <tr>\n      <th>94</th>\n      <td>0.361111</td>\n      <td>0.291667</td>\n      <td>0.542373</td>\n      <td>0.500000</td>\n      <td>Iris-versicolor</td>\n    </tr>\n    <tr>\n      <th>110</th>\n      <td>0.611111</td>\n      <td>0.500000</td>\n      <td>0.694915</td>\n      <td>0.791667</td>\n      <td>Iris-virginica</td>\n    </tr>\n    <tr>\n      <th>126</th>\n      <td>0.527778</td>\n      <td>0.333333</td>\n      <td>0.644068</td>\n      <td>0.708333</td>\n      <td>Iris-virginica</td>\n    </tr>\n    <tr>\n      <th>44</th>\n      <td>0.222222</td>\n      <td>0.750000</td>\n      <td>0.152542</td>\n      <td>0.125000</td>\n      <td>Iris-setosa</td>\n    </tr>\n  </tbody>\n</table>\n</div>"
     },
     "execution_count": 3,
     "metadata": {},
     "output_type": "execute_result"
    }
   ],
   "source": [
    "labels = df['Species']\n",
    "\n",
    "df = df.drop(['Species', 'Id'], axis=1)\n",
    "df = (df - df.min()) / (df.max() - df.min())\n",
    "df['Species'] = labels\n",
    "\n",
    "df.sample(5)"
   ]
  },
  {
   "cell_type": "code",
   "execution_count": 4,
   "metadata": {
    "ExecuteTime": {
     "end_time": "2023-11-11T19:57:34.504939422Z",
     "start_time": "2023-11-11T19:57:34.482782276Z"
    }
   },
   "outputs": [],
   "source": [
    "def plot_map(som, data):\n",
    "    fig, ax = plt.subplots(figsize=(5, 5))\n",
    "\n",
    "    class_styles = {\n",
    "        'Iris-setosa' : 's',\n",
    "        'Iris-versicolor': '*',\n",
    "        'Iris-virginica': 'v',\n",
    "    }\n",
    "\n",
    "    for flower in class_styles:\n",
    "        points_xs = data[data['Species'] == flower]['SepalLengthCm'].to_numpy()\n",
    "        points_ys = data[data['Species'] == flower]['PetalLengthCm'].to_numpy()\n",
    "\n",
    "        ax.scatter(points_xs, points_ys, marker=class_styles[flower])\n",
    "\n",
    "\n",
    "    nodes = list(map(lambda n: list(n.position), som.nodes))\n",
    "    nodes_xs = [x for x, _ in nodes]\n",
    "    nodes_ys = [y for _, y in nodes]\n",
    "\n",
    "    ax.scatter(nodes_xs, nodes_ys, color='black', s=3)\n",
    "\n",
    "    for node in som.nodes:\n",
    "        start_pos = list(node.position)\n",
    "        for neighbor in node.neighbors:\n",
    "            end_pos = list(neighbor.position)\n",
    "            plt.plot(*np.transpose([start_pos, end_pos]), color='black')\n",
    "\n",
    "    plt.show()"
   ]
  },
  {
   "cell_type": "markdown",
   "metadata": {},
   "source": [
    "Kohonen map can be used as a clusterizer or as a non-linear analogue of PCA. \n",
    "\n",
    "It will be shown as a clusterizer on a subset of 2D data with visual representation and as a mapping on full 4D data of iris dataset and then analyzed in terms of mapping quality.  "
   ]
  },
  {
   "cell_type": "code",
   "execution_count": 5,
   "metadata": {
    "ExecuteTime": {
     "end_time": "2023-11-11T19:57:34.520823685Z",
     "start_time": "2023-11-11T19:57:34.487951548Z"
    }
   },
   "outputs": [],
   "source": [
    "subset_2d = df[['SepalLengthCm', 'PetalLengthCm', 'Species']]"
   ]
  },
  {
   "cell_type": "code",
   "execution_count": 6,
   "metadata": {
    "ExecuteTime": {
     "end_time": "2023-11-11T19:57:34.711293111Z",
     "start_time": "2023-11-11T19:57:34.492671741Z"
    }
   },
   "outputs": [
    {
     "data": {
      "text/plain": "<Figure size 500x500 with 1 Axes>",
      "image/png": "[encoded data removed]"
     },
     "metadata": {},
     "output_type": "display_data"
    }
   ],
   "source": [
    "kohonen_map_2d = SOM((5, 5), 2, a0=0.025, s0=0.1)\n",
    "plot_map(kohonen_map_2d, subset_2d)"
   ]
  },
  {
   "cell_type": "code",
   "execution_count": 7,
   "metadata": {
    "ExecuteTime": {
     "end_time": "2023-11-11T19:57:34.712231354Z",
     "start_time": "2023-11-11T19:57:34.686729395Z"
    }
   },
   "outputs": [
    {
     "data": {
      "text/plain": "     SepalLengthCm  PetalLengthCm\n53        0.333333       0.508475\n81        0.333333       0.457627\n10        0.305556       0.084746\n41        0.055556       0.050847\n130       0.861111       0.864407",
      "text/html": "<div>\n<style scoped>\n    .dataframe tbody tr th:only-of-type {\n        vertical-align: middle;\n    }\n\n    .dataframe tbody tr th {\n        vertical-align: top;\n    }\n\n    .dataframe thead th {\n        text-align: right;\n    }\n</style>\n<table border=\"1\" class=\"dataframe\">\n  <thead>\n    <tr style=\"text-align: right;\">\n      <th></th>\n      <th>SepalLengthCm</th>\n      <th>PetalLengthCm</th>\n    </tr>\n  </thead>\n  <tbody>\n    <tr>\n      <th>53</th>\n      <td>0.333333</td>\n      <td>0.508475</td>\n    </tr>\n    <tr>\n      <th>81</th>\n      <td>0.333333</td>\n      <td>0.457627</td>\n    </tr>\n    <tr>\n      <th>10</th>\n      <td>0.305556</td>\n      <td>0.084746</td>\n    </tr>\n    <tr>\n      <th>41</th>\n      <td>0.055556</td>\n      <td>0.050847</td>\n    </tr>\n    <tr>\n      <th>130</th>\n      <td>0.861111</td>\n      <td>0.864407</td>\n    </tr>\n  </tbody>\n</table>\n</div>"
     },
     "execution_count": 7,
     "metadata": {},
     "output_type": "execute_result"
    }
   ],
   "source": [
    "input_data = subset_2d.drop('Species', axis=1)\n",
    "input_data.sample(5)"
   ]
  },
  {
   "cell_type": "code",
   "execution_count": 8,
   "metadata": {
    "ExecuteTime": {
     "end_time": "2023-11-11T19:57:38.734030818Z",
     "start_time": "2023-11-11T19:57:34.686883375Z"
    }
   },
   "outputs": [],
   "source": [
    "kohonen_map_2d.train(input_data.to_numpy(), len(input_data) * EPOCHS)"
   ]
  },
  {
   "cell_type": "code",
   "execution_count": 9,
   "metadata": {
    "ExecuteTime": {
     "end_time": "2023-11-11T19:57:38.921809908Z",
     "start_time": "2023-11-11T19:57:38.749814990Z"
    }
   },
   "outputs": [
    {
     "data": {
      "text/plain": "<Figure size 500x500 with 1 Axes>",
      "image/png": "[encoded data removed]"
     },
     "metadata": {},
     "output_type": "display_data"
    }
   ],
   "source": [
    "plot_map(kohonen_map_2d, subset_2d)"
   ]
  },
  {
   "cell_type": "code",
   "execution_count": 10,
   "metadata": {
    "ExecuteTime": {
     "end_time": "2023-11-11T19:57:38.980443054Z",
     "start_time": "2023-11-11T19:57:38.924276894Z"
    }
   },
   "outputs": [
    {
     "name": "stdout",
     "output_type": "stream",
     "text": [
      "Quantization error: 0.002205585853419121\n",
      "Topographic error: 0.0\n"
     ]
    }
   ],
   "source": [
    "kohonen_map_2d.score()"
   ]
  },
  {
   "cell_type": "markdown",
   "metadata": {},
   "source": [
    "Tuning for best shape:"
   ]
  },
  {
   "cell_type": "code",
   "execution_count": 11,
   "metadata": {
    "ExecuteTime": {
     "end_time": "2023-11-11T19:58:32.053304450Z",
     "start_time": "2023-11-11T19:57:38.966858679Z"
    }
   },
   "outputs": [
    {
     "name": "stdout",
     "output_type": "stream",
     "text": [
      "2:\n",
      "Quantization error: 0.02577979145025158\n",
      "Topographic error: 0.0\n",
      "\n",
      "\n",
      "3:\n",
      "Quantization error: 0.00812609499372691\n",
      "Topographic error: 0.0\n",
      "\n",
      "\n",
      "4:\n",
      "Quantization error: 0.0033942918514092662\n",
      "Topographic error: 0.0\n",
      "\n",
      "\n",
      "5:\n",
      "Quantization error: 0.002196471022858436\n",
      "Topographic error: 0.0\n",
      "\n",
      "\n",
      "6:\n",
      "Quantization error: 0.001829098290689493\n",
      "Topographic error: 0.0\n",
      "\n",
      "\n",
      "7:\n",
      "Quantization error: 0.0013724212713887689\n",
      "Topographic error: 0.0\n",
      "\n",
      "\n",
      "8:\n",
      "Quantization error: 0.00119028467953815\n",
      "Topographic error: 0.0\n",
      "\n",
      "\n",
      "9:\n",
      "Quantization error: 0.0009829393014396356\n",
      "Topographic error: 0.0\n",
      "\n",
      "\n",
      "10:\n",
      "Quantization error: 0.0007471743528031626\n",
      "Topographic error: 0.0\n",
      "\n",
      "\n"
     ]
    }
   ],
   "source": [
    "for x in range(2, 11):\n",
    "    kohonen_map = SOM((x, x), 2, a0=0.025, s0=0.5 / x)\n",
    "    kohonen_map.train(input_data.to_numpy(), len(input_data) * EPOCHS)\n",
    "    \n",
    "    print(f'{x}:')\n",
    "    kohonen_map.score()\n",
    "    print('\\n\\n')"
   ]
  },
  {
   "cell_type": "markdown",
   "metadata": {},
   "source": [
    "Mapping 4D:"
   ]
  },
  {
   "cell_type": "code",
   "execution_count": 12,
   "metadata": {
    "ExecuteTime": {
     "end_time": "2023-11-11T19:58:32.059810015Z",
     "start_time": "2023-11-11T19:58:32.057739184Z"
    }
   },
   "outputs": [],
   "source": [
    "kohonen_map_4d = SOM((5, 5), 4, a0=0.025, s0=0.1)"
   ]
  },
  {
   "cell_type": "code",
   "execution_count": 13,
   "metadata": {
    "ExecuteTime": {
     "end_time": "2023-11-11T19:58:32.071231303Z",
     "start_time": "2023-11-11T19:58:32.068716856Z"
    }
   },
   "outputs": [
    {
     "data": {
      "text/plain": "     SepalLengthCm  SepalWidthCm  PetalLengthCm  PetalWidthCm\n4         0.194444      0.666667       0.067797      0.041667\n61        0.444444      0.416667       0.542373      0.583333\n63        0.500000      0.375000       0.627119      0.541667\n69        0.361111      0.208333       0.491525      0.416667\n145       0.666667      0.416667       0.711864      0.916667",
      "text/html": "<div>\n<style scoped>\n    .dataframe tbody tr th:only-of-type {\n        vertical-align: middle;\n    }\n\n    .dataframe tbody tr th {\n        vertical-align: top;\n    }\n\n    .dataframe thead th {\n        text-align: right;\n    }\n</style>\n<table border=\"1\" class=\"dataframe\">\n  <thead>\n    <tr style=\"text-align: right;\">\n      <th></th>\n      <th>SepalLengthCm</th>\n      <th>SepalWidthCm</th>\n      <th>PetalLengthCm</th>\n      <th>PetalWidthCm</th>\n    </tr>\n  </thead>\n  <tbody>\n    <tr>\n      <th>4</th>\n      <td>0.194444</td>\n      <td>0.666667</td>\n      <td>0.067797</td>\n      <td>0.041667</td>\n    </tr>\n    <tr>\n      <th>61</th>\n      <td>0.444444</td>\n      <td>0.416667</td>\n      <td>0.542373</td>\n      <td>0.583333</td>\n    </tr>\n    <tr>\n      <th>63</th>\n      <td>0.500000</td>\n      <td>0.375000</td>\n      <td>0.627119</td>\n      <td>0.541667</td>\n    </tr>\n    <tr>\n      <th>69</th>\n      <td>0.361111</td>\n      <td>0.208333</td>\n      <td>0.491525</td>\n      <td>0.416667</td>\n    </tr>\n    <tr>\n      <th>145</th>\n      <td>0.666667</td>\n      <td>0.416667</td>\n      <td>0.711864</td>\n      <td>0.916667</td>\n    </tr>\n  </tbody>\n</table>\n</div>"
     },
     "execution_count": 13,
     "metadata": {},
     "output_type": "execute_result"
    }
   ],
   "source": [
    "input_data = df.drop('Species', axis=1)\n",
    "input_data.sample(5)"
   ]
  },
  {
   "cell_type": "code",
   "execution_count": 14,
   "metadata": {
    "ExecuteTime": {
     "end_time": "2023-11-11T19:58:36.439058743Z",
     "start_time": "2023-11-11T19:58:32.105001593Z"
    }
   },
   "outputs": [],
   "source": [
    "kohonen_map_4d.train(input_data.to_numpy(), len(input_data) * EPOCHS)"
   ]
  },
  {
   "cell_type": "code",
   "execution_count": 15,
   "metadata": {
    "ExecuteTime": {
     "end_time": "2023-11-11T19:58:36.439445439Z",
     "start_time": "2023-11-11T19:58:36.438736633Z"
    }
   },
   "outputs": [
    {
     "name": "stdout",
     "output_type": "stream",
     "text": [
      "Quantization error: 0.016404981883955068\n",
      "Topographic error: 0.0\n"
     ]
    }
   ],
   "source": [
    "kohonen_map_4d.score()"
   ]
  },
  {
   "cell_type": "markdown",
   "metadata": {},
   "source": [
    "Tuning for best shape:"
   ]
  },
  {
   "cell_type": "code",
   "execution_count": 16,
   "metadata": {
    "ExecuteTime": {
     "end_time": "2023-11-11T19:59:32.596338662Z",
     "start_time": "2023-11-11T19:58:36.439150630Z"
    }
   },
   "outputs": [
    {
     "name": "stdout",
     "output_type": "stream",
     "text": [
      "2:\n",
      "Quantization error: 0.05394521099653818\n",
      "Topographic error: 0.0\n",
      "\n",
      "\n",
      "3:\n",
      "Quantization error: 0.04567645341499697\n",
      "Topographic error: 0.0\n",
      "\n",
      "\n",
      "4:\n",
      "Quantization error: 0.023877788891522044\n",
      "Topographic error: 0.0\n",
      "\n",
      "\n",
      "5:\n",
      "Quantization error: 0.0166086977154709\n",
      "Topographic error: 0.0\n",
      "\n",
      "\n",
      "6:\n",
      "Quantization error: 0.015023649928194192\n",
      "Topographic error: 0.0\n",
      "\n",
      "\n",
      "7:\n",
      "Quantization error: 0.013664665894976355\n",
      "Topographic error: 0.0\n",
      "\n",
      "\n",
      "8:\n",
      "Quantization error: 0.011992733784067679\n",
      "Topographic error: 0.0\n",
      "\n",
      "\n",
      "9:\n",
      "Quantization error: 0.01139590881926625\n",
      "Topographic error: 0.0\n",
      "\n",
      "\n",
      "10:\n",
      "Quantization error: 0.010604206228465045\n",
      "Topographic error: 0.0\n",
      "\n",
      "\n"
     ]
    }
   ],
   "source": [
    "for x in range(2, 11):\n",
    "    kohonen_map = SOM((x, x), 4, a0=0.025, s0=0.5 / x)\n",
    "    kohonen_map.train(input_data.to_numpy(), len(input_data) * EPOCHS)\n",
    "    \n",
    "    print(f'{x}:')\n",
    "    kohonen_map.score()\n",
    "    print('\\n\\n')"
   ]
  }
 ],
 "metadata": {
  "kernelspec": {
   "display_name": "anns3.9",
   "language": "python",
   "name": "python3"
  },
  "language_info": {
   "codemirror_mode": {
    "name": "ipython",
    "version": 3
   },
   "file_extension": ".py",
   "mimetype": "text/x-python",
   "name": "python",
   "nbconvert_exporter": "python",
   "pygments_lexer": "ipython3",
   "version": "3.9.18"
  }
 },
 "nbformat": 4,
 "nbformat_minor": 2
}
