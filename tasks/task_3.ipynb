{
 "cells": [
  {
   "cell_type": "code",
   "execution_count": 1,
   "metadata": {},
   "outputs": [],
   "source": [
    "import numpy as np\n",
    "import pandas as pd\n",
    "import matplotlib.pyplot as plt\n",
    "\n",
    "from task_3_core.som import SOM\n",
    "from task_3_core.node import Node \n",
    "\n",
    "from sklearn.model_selection import train_test_split\n",
    "\n",
    "from setup import get_task_data\n",
    "\n",
    "EPOCHS = 100"
   ]
  },
  {
   "cell_type": "code",
   "execution_count": 2,
   "metadata": {},
   "outputs": [
    {
     "data": {
      "text/html": [
       "<div>\n",
       "<style scoped>\n",
       "    .dataframe tbody tr th:only-of-type {\n",
       "        vertical-align: middle;\n",
       "    }\n",
       "\n",
       "    .dataframe tbody tr th {\n",
       "        vertical-align: top;\n",
       "    }\n",
       "\n",
       "    .dataframe thead th {\n",
       "        text-align: right;\n",
       "    }\n",
       "</style>\n",
       "<table border=\"1\" class=\"dataframe\">\n",
       "  <thead>\n",
       "    <tr style=\"text-align: right;\">\n",
       "      <th></th>\n",
       "      <th>Id</th>\n",
       "      <th>SepalLengthCm</th>\n",
       "      <th>SepalWidthCm</th>\n",
       "      <th>PetalLengthCm</th>\n",
       "      <th>PetalWidthCm</th>\n",
       "      <th>Species</th>\n",
       "    </tr>\n",
       "  </thead>\n",
       "  <tbody>\n",
       "    <tr>\n",
       "      <th>55</th>\n",
       "      <td>56</td>\n",
       "      <td>5.7</td>\n",
       "      <td>2.8</td>\n",
       "      <td>4.5</td>\n",
       "      <td>1.3</td>\n",
       "      <td>Iris-versicolor</td>\n",
       "    </tr>\n",
       "    <tr>\n",
       "      <th>68</th>\n",
       "      <td>69</td>\n",
       "      <td>6.2</td>\n",
       "      <td>2.2</td>\n",
       "      <td>4.5</td>\n",
       "      <td>1.5</td>\n",
       "      <td>Iris-versicolor</td>\n",
       "    </tr>\n",
       "    <tr>\n",
       "      <th>118</th>\n",
       "      <td>119</td>\n",
       "      <td>7.7</td>\n",
       "      <td>2.6</td>\n",
       "      <td>6.9</td>\n",
       "      <td>2.3</td>\n",
       "      <td>Iris-virginica</td>\n",
       "    </tr>\n",
       "    <tr>\n",
       "      <th>91</th>\n",
       "      <td>92</td>\n",
       "      <td>6.1</td>\n",
       "      <td>3.0</td>\n",
       "      <td>4.6</td>\n",
       "      <td>1.4</td>\n",
       "      <td>Iris-versicolor</td>\n",
       "    </tr>\n",
       "    <tr>\n",
       "      <th>95</th>\n",
       "      <td>96</td>\n",
       "      <td>5.7</td>\n",
       "      <td>3.0</td>\n",
       "      <td>4.2</td>\n",
       "      <td>1.2</td>\n",
       "      <td>Iris-versicolor</td>\n",
       "    </tr>\n",
       "  </tbody>\n",
       "</table>\n",
       "</div>"
      ],
      "text/plain": [
       "      Id  SepalLengthCm  SepalWidthCm  PetalLengthCm  PetalWidthCm  \\\n",
       "55    56            5.7           2.8            4.5           1.3   \n",
       "68    69            6.2           2.2            4.5           1.5   \n",
       "118  119            7.7           2.6            6.9           2.3   \n",
       "91    92            6.1           3.0            4.6           1.4   \n",
       "95    96            5.7           3.0            4.2           1.2   \n",
       "\n",
       "             Species  \n",
       "55   Iris-versicolor  \n",
       "68   Iris-versicolor  \n",
       "118   Iris-virginica  \n",
       "91   Iris-versicolor  \n",
       "95   Iris-versicolor  "
      ]
     },
     "execution_count": 2,
     "metadata": {},
     "output_type": "execute_result"
    }
   ],
   "source": [
    "df = pd.read_csv(get_task_data('Iris.csv'))\n",
    "df.sample(5)"
   ]
  },
  {
   "cell_type": "code",
   "execution_count": 3,
   "metadata": {},
   "outputs": [
    {
     "data": {
      "text/html": [
       "<div>\n",
       "<style scoped>\n",
       "    .dataframe tbody tr th:only-of-type {\n",
       "        vertical-align: middle;\n",
       "    }\n",
       "\n",
       "    .dataframe tbody tr th {\n",
       "        vertical-align: top;\n",
       "    }\n",
       "\n",
       "    .dataframe thead th {\n",
       "        text-align: right;\n",
       "    }\n",
       "</style>\n",
       "<table border=\"1\" class=\"dataframe\">\n",
       "  <thead>\n",
       "    <tr style=\"text-align: right;\">\n",
       "      <th></th>\n",
       "      <th>SepalLengthCm</th>\n",
       "      <th>SepalWidthCm</th>\n",
       "      <th>PetalLengthCm</th>\n",
       "      <th>PetalWidthCm</th>\n",
       "      <th>Species</th>\n",
       "    </tr>\n",
       "  </thead>\n",
       "  <tbody>\n",
       "    <tr>\n",
       "      <th>26</th>\n",
       "      <td>0.194444</td>\n",
       "      <td>0.583333</td>\n",
       "      <td>0.101695</td>\n",
       "      <td>0.125000</td>\n",
       "      <td>Iris-setosa</td>\n",
       "    </tr>\n",
       "    <tr>\n",
       "      <th>106</th>\n",
       "      <td>0.166667</td>\n",
       "      <td>0.208333</td>\n",
       "      <td>0.593220</td>\n",
       "      <td>0.666667</td>\n",
       "      <td>Iris-virginica</td>\n",
       "    </tr>\n",
       "    <tr>\n",
       "      <th>56</th>\n",
       "      <td>0.555556</td>\n",
       "      <td>0.541667</td>\n",
       "      <td>0.627119</td>\n",
       "      <td>0.625000</td>\n",
       "      <td>Iris-versicolor</td>\n",
       "    </tr>\n",
       "    <tr>\n",
       "      <th>13</th>\n",
       "      <td>0.000000</td>\n",
       "      <td>0.416667</td>\n",
       "      <td>0.016949</td>\n",
       "      <td>0.000000</td>\n",
       "      <td>Iris-setosa</td>\n",
       "    </tr>\n",
       "    <tr>\n",
       "      <th>49</th>\n",
       "      <td>0.194444</td>\n",
       "      <td>0.541667</td>\n",
       "      <td>0.067797</td>\n",
       "      <td>0.041667</td>\n",
       "      <td>Iris-setosa</td>\n",
       "    </tr>\n",
       "  </tbody>\n",
       "</table>\n",
       "</div>"
      ],
      "text/plain": [
       "     SepalLengthCm  SepalWidthCm  PetalLengthCm  PetalWidthCm          Species\n",
       "26        0.194444      0.583333       0.101695      0.125000      Iris-setosa\n",
       "106       0.166667      0.208333       0.593220      0.666667   Iris-virginica\n",
       "56        0.555556      0.541667       0.627119      0.625000  Iris-versicolor\n",
       "13        0.000000      0.416667       0.016949      0.000000      Iris-setosa\n",
       "49        0.194444      0.541667       0.067797      0.041667      Iris-setosa"
      ]
     },
     "execution_count": 3,
     "metadata": {},
     "output_type": "execute_result"
    }
   ],
   "source": [
    "species = df['Species']\n",
    "\n",
    "df = df.drop(['Species', 'Id'], axis=1)\n",
    "df = (df - df.min()) / (df.max() - df.min())\n",
    "df['Species'] = species\n",
    "\n",
    "df.sample(5)"
   ]
  },
  {
   "cell_type": "code",
   "execution_count": 4,
   "metadata": {},
   "outputs": [],
   "source": [
    "def plot_map(som, data):\n",
    "    fig, ax = plt.subplots(figsize=(5, 5))\n",
    "\n",
    "    class_styles = {\n",
    "        'Iris-setosa' : 's',\n",
    "        'Iris-versicolor': '*',\n",
    "        'Iris-virginica': 'v',\n",
    "    }\n",
    "\n",
    "    for species in class_styles.keys():\n",
    "        points_xs = data[data['Species'] == species]['SepalLengthCm'].to_numpy()\n",
    "        points_ys = data[data['Species'] == species]['PetalLengthCm'].to_numpy()\n",
    "\n",
    "        ax.scatter(points_xs, points_ys, marker=class_styles[species])\n",
    "\n",
    "\n",
    "    nodes = list(map(lambda n: list(n.position), som.nodes))\n",
    "    nodes_xs = [x for [x, y] in nodes]\n",
    "    nodes_ys = [y for [x, y] in nodes]\n",
    "\n",
    "    ax.scatter(nodes_xs, nodes_ys, color='black', s=3)\n",
    "\n",
    "    for node in som.nodes:\n",
    "        start_pos = list(node.position)\n",
    "        for neighbor in node.neighbors:\n",
    "            end_pos = list(neighbor.position)\n",
    "            plt.plot(*np.transpose([start_pos, end_pos]), color='black')\n",
    "\n",
    "    plt.show()"
   ]
  },
  {
   "cell_type": "markdown",
   "metadata": {},
   "source": [
    "Kohonen map can be used as a clusterizer or as a non-linear analogue of PCA. \n",
    "\n",
    "It will be shown as a clusterizer on a subset of 2D data with visual representation and as a mapping on full 4D data of iris dataset and then analyzed in terms of mapping quality.  "
   ]
  },
  {
   "cell_type": "code",
   "execution_count": 5,
   "metadata": {},
   "outputs": [],
   "source": [
    "subset_2d = df[['SepalLengthCm', 'PetalLengthCm', 'Species']]"
   ]
  },
  {
   "cell_type": "code",
   "execution_count": 6,
   "metadata": {},
   "outputs": [
    {
     "data": {
      "image/png": "[encoded data removed]",
      "text/plain": [
       "<Figure size 500x500 with 1 Axes>"
      ]
     },
     "metadata": {},
     "output_type": "display_data"
    }
   ],
   "source": [
    "kohonen_map_2d = SOM((5, 5), 2, a0=0.025, s0=0.1)\n",
    "plot_map(kohonen_map_2d, subset_2d)"
   ]
  },
  {
   "cell_type": "code",
   "execution_count": 7,
   "metadata": {},
   "outputs": [
    {
     "data": {
      "text/html": [
       "<div>\n",
       "<style scoped>\n",
       "    .dataframe tbody tr th:only-of-type {\n",
       "        vertical-align: middle;\n",
       "    }\n",
       "\n",
       "    .dataframe tbody tr th {\n",
       "        vertical-align: top;\n",
       "    }\n",
       "\n",
       "    .dataframe thead th {\n",
       "        text-align: right;\n",
       "    }\n",
       "</style>\n",
       "<table border=\"1\" class=\"dataframe\">\n",
       "  <thead>\n",
       "    <tr style=\"text-align: right;\">\n",
       "      <th></th>\n",
       "      <th>SepalLengthCm</th>\n",
       "      <th>PetalLengthCm</th>\n",
       "    </tr>\n",
       "  </thead>\n",
       "  <tbody>\n",
       "    <tr>\n",
       "      <th>93</th>\n",
       "      <td>0.194444</td>\n",
       "      <td>0.389831</td>\n",
       "    </tr>\n",
       "    <tr>\n",
       "      <th>147</th>\n",
       "      <td>0.611111</td>\n",
       "      <td>0.711864</td>\n",
       "    </tr>\n",
       "    <tr>\n",
       "      <th>51</th>\n",
       "      <td>0.583333</td>\n",
       "      <td>0.593220</td>\n",
       "    </tr>\n",
       "    <tr>\n",
       "      <th>46</th>\n",
       "      <td>0.222222</td>\n",
       "      <td>0.101695</td>\n",
       "    </tr>\n",
       "    <tr>\n",
       "      <th>103</th>\n",
       "      <td>0.555556</td>\n",
       "      <td>0.779661</td>\n",
       "    </tr>\n",
       "  </tbody>\n",
       "</table>\n",
       "</div>"
      ],
      "text/plain": [
       "     SepalLengthCm  PetalLengthCm\n",
       "93        0.194444       0.389831\n",
       "147       0.611111       0.711864\n",
       "51        0.583333       0.593220\n",
       "46        0.222222       0.101695\n",
       "103       0.555556       0.779661"
      ]
     },
     "execution_count": 7,
     "metadata": {},
     "output_type": "execute_result"
    }
   ],
   "source": [
    "input_data = subset_2d.drop('Species', axis=1)\n",
    "input_data.sample(5)"
   ]
  },
  {
   "cell_type": "code",
   "execution_count": 8,
   "metadata": {},
   "outputs": [],
   "source": [
    "kohonen_map_2d.train(input_data.to_numpy(), len(input_data) * EPOCHS)"
   ]
  },
  {
   "cell_type": "code",
   "execution_count": 9,
   "metadata": {},
   "outputs": [
    {
     "data": {
      "image/png": "[encoded data removed]",
      "text/plain": [
       "<Figure size 500x500 with 1 Axes>"
      ]
     },
     "metadata": {},
     "output_type": "display_data"
    }
   ],
   "source": [
    "plot_map(kohonen_map_2d, subset_2d)"
   ]
  },
  {
   "cell_type": "code",
   "execution_count": 10,
   "metadata": {},
   "outputs": [
    {
     "name": "stdout",
     "output_type": "stream",
     "text": [
      "Quantization error: 0.0021870322462247903\n",
      "Topographic error: 0.20886666666666667\n"
     ]
    }
   ],
   "source": [
    "kohonen_map_2d.score()"
   ]
  },
  {
   "cell_type": "markdown",
   "metadata": {},
   "source": [
    "Tuning for best shape:"
   ]
  },
  {
   "cell_type": "code",
   "execution_count": 11,
   "metadata": {},
   "outputs": [
    {
     "name": "stdout",
     "output_type": "stream",
     "text": [
      "2:\n",
      "Quantization error: 0.01937439240570249\n",
      "Topographic error: 6.666666666666667e-05\n",
      "\n",
      "\n",
      "\n",
      "3:\n",
      "Quantization error: 0.008061300960534076\n",
      "Topographic error: 0.015266666666666666\n",
      "\n",
      "\n",
      "\n",
      "4:\n",
      "Quantization error: 0.0033196618105204283\n",
      "Topographic error: 0.24286666666666668\n",
      "\n",
      "\n",
      "\n",
      "5:\n",
      "Quantization error: 0.002154984422421604\n",
      "Topographic error: 0.21173333333333333\n",
      "\n",
      "\n",
      "\n",
      "6:\n",
      "Quantization error: 0.0016778622916466892\n",
      "Topographic error: 0.3518\n",
      "\n",
      "\n",
      "\n",
      "7:\n",
      "Quantization error: 0.0013509941536301263\n",
      "Topographic error: 0.3238\n",
      "\n",
      "\n",
      "\n",
      "8:\n",
      "Quantization error: 0.001176215388195421\n",
      "Topographic error: 0.2176\n",
      "\n",
      "\n",
      "\n",
      "9:\n",
      "Quantization error: 0.0009700902087310982\n",
      "Topographic error: 0.19266666666666668\n",
      "\n",
      "\n",
      "\n",
      "10:\n",
      "Quantization error: 0.000796771735130861\n",
      "Topographic error: 0.24473333333333333\n",
      "\n",
      "\n",
      "\n"
     ]
    }
   ],
   "source": [
    "for x in range(2, 11):\n",
    "    kohonen_map = SOM((x, x), 2, a0=0.025, s0=0.5 / x)\n",
    "    kohonen_map.train(input_data.to_numpy(), len(input_data) * EPOCHS)\n",
    "    \n",
    "    print(f'{x}:')\n",
    "    kohonen_map.score()\n",
    "    print('\\n\\n')"
   ]
  },
  {
   "cell_type": "markdown",
   "metadata": {},
   "source": [
    "Mapping 4D:"
   ]
  },
  {
   "cell_type": "code",
   "execution_count": 12,
   "metadata": {},
   "outputs": [],
   "source": [
    "kohonen_map_4d = SOM((5, 5), 4, a0=0.025, s0=0.1)"
   ]
  },
  {
   "cell_type": "code",
   "execution_count": 13,
   "metadata": {},
   "outputs": [
    {
     "data": {
      "text/html": [
       "<div>\n",
       "<style scoped>\n",
       "    .dataframe tbody tr th:only-of-type {\n",
       "        vertical-align: middle;\n",
       "    }\n",
       "\n",
       "    .dataframe tbody tr th {\n",
       "        vertical-align: top;\n",
       "    }\n",
       "\n",
       "    .dataframe thead th {\n",
       "        text-align: right;\n",
       "    }\n",
       "</style>\n",
       "<table border=\"1\" class=\"dataframe\">\n",
       "  <thead>\n",
       "    <tr style=\"text-align: right;\">\n",
       "      <th></th>\n",
       "      <th>SepalLengthCm</th>\n",
       "      <th>SepalWidthCm</th>\n",
       "      <th>PetalLengthCm</th>\n",
       "      <th>PetalWidthCm</th>\n",
       "    </tr>\n",
       "  </thead>\n",
       "  <tbody>\n",
       "    <tr>\n",
       "      <th>3</th>\n",
       "      <td>0.083333</td>\n",
       "      <td>0.458333</td>\n",
       "      <td>0.084746</td>\n",
       "      <td>0.041667</td>\n",
       "    </tr>\n",
       "    <tr>\n",
       "      <th>62</th>\n",
       "      <td>0.472222</td>\n",
       "      <td>0.083333</td>\n",
       "      <td>0.508475</td>\n",
       "      <td>0.375000</td>\n",
       "    </tr>\n",
       "    <tr>\n",
       "      <th>47</th>\n",
       "      <td>0.083333</td>\n",
       "      <td>0.500000</td>\n",
       "      <td>0.067797</td>\n",
       "      <td>0.041667</td>\n",
       "    </tr>\n",
       "    <tr>\n",
       "      <th>4</th>\n",
       "      <td>0.194444</td>\n",
       "      <td>0.666667</td>\n",
       "      <td>0.067797</td>\n",
       "      <td>0.041667</td>\n",
       "    </tr>\n",
       "    <tr>\n",
       "      <th>9</th>\n",
       "      <td>0.166667</td>\n",
       "      <td>0.458333</td>\n",
       "      <td>0.084746</td>\n",
       "      <td>0.000000</td>\n",
       "    </tr>\n",
       "  </tbody>\n",
       "</table>\n",
       "</div>"
      ],
      "text/plain": [
       "    SepalLengthCm  SepalWidthCm  PetalLengthCm  PetalWidthCm\n",
       "3        0.083333      0.458333       0.084746      0.041667\n",
       "62       0.472222      0.083333       0.508475      0.375000\n",
       "47       0.083333      0.500000       0.067797      0.041667\n",
       "4        0.194444      0.666667       0.067797      0.041667\n",
       "9        0.166667      0.458333       0.084746      0.000000"
      ]
     },
     "execution_count": 13,
     "metadata": {},
     "output_type": "execute_result"
    }
   ],
   "source": [
    "input_data = df.drop('Species', axis=1)\n",
    "input_data.sample(5)"
   ]
  },
  {
   "cell_type": "code",
   "execution_count": 14,
   "metadata": {},
   "outputs": [],
   "source": [
    "kohonen_map_4d.train(input_data.to_numpy(), len(input_data) * EPOCHS)"
   ]
  },
  {
   "cell_type": "code",
   "execution_count": 15,
   "metadata": {},
   "outputs": [
    {
     "name": "stdout",
     "output_type": "stream",
     "text": [
      "Quantization error: 0.015584217866146003\n",
      "Topographic error: 0.1948\n"
     ]
    }
   ],
   "source": [
    "kohonen_map_4d.score()"
   ]
  },
  {
   "cell_type": "markdown",
   "metadata": {},
   "source": [
    "Tuning for best shape:"
   ]
  },
  {
   "cell_type": "code",
   "execution_count": 16,
   "metadata": {},
   "outputs": [
    {
     "name": "stdout",
     "output_type": "stream",
     "text": [
      "2:\n",
      "Quantization error: 0.05344258713528114\n",
      "Topographic error: 0.0056\n",
      "\n",
      "\n",
      "\n",
      "3:\n",
      "Quantization error: 0.045556951324915225\n",
      "Topographic error: 0.8768666666666667\n",
      "\n",
      "\n",
      "\n",
      "4:\n",
      "Quantization error: 0.024508756453430675\n",
      "Topographic error: 0.3433333333333333\n",
      "\n",
      "\n",
      "\n",
      "5:\n",
      "Quantization error: 0.0165127797829521\n",
      "Topographic error: 0.22406666666666666\n",
      "\n",
      "\n",
      "\n",
      "6:\n",
      "Quantization error: 0.014580164347088144\n",
      "Topographic error: 0.18566666666666667\n",
      "\n",
      "\n",
      "\n",
      "7:\n",
      "Quantization error: 0.014282070786876693\n",
      "Topographic error: 0.23733333333333334\n",
      "\n",
      "\n",
      "\n",
      "8:\n",
      "Quantization error: 0.012934126424242734\n",
      "Topographic error: 0.14546666666666666\n",
      "\n",
      "\n",
      "\n",
      "9:\n",
      "Quantization error: 0.011459896915609008\n",
      "Topographic error: 0.14273333333333332\n",
      "\n",
      "\n",
      "\n",
      "10:\n",
      "Quantization error: 0.010935664915142848\n",
      "Topographic error: 0.12706666666666666\n",
      "\n",
      "\n",
      "\n"
     ]
    }
   ],
   "source": [
    "for x in range(2, 11):\n",
    "    kohonen_map = SOM((x, x), 4, a0=0.025, s0=0.5 / x)\n",
    "    kohonen_map.train(input_data.to_numpy(), len(input_data) * EPOCHS)\n",
    "    \n",
    "    print(f'{x}:')\n",
    "    kohonen_map.score()\n",
    "    print('\\n\\n')"
   ]
  }
 ],
 "metadata": {
  "kernelspec": {
   "display_name": "anns3.9",
   "language": "python",
   "name": "python3"
  },
  "language_info": {
   "codemirror_mode": {
    "name": "ipython",
    "version": 3
   },
   "file_extension": ".py",
   "mimetype": "text/x-python",
   "name": "python",
   "nbconvert_exporter": "python",
   "pygments_lexer": "ipython3",
   "version": "3.9.18"
  }
 },
 "nbformat": 4,
 "nbformat_minor": 2
}
