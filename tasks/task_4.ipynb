{
 "cells": [
  {
   "cell_type": "code",
   "execution_count": 1,
   "metadata": {
    "ExecuteTime": {
     "end_time": "2023-11-19T10:49:01.125068533Z",
     "start_time": "2023-11-19T10:48:54.815315438Z"
    }
   },
   "outputs": [
    {
     "name": "stderr",
     "output_type": "stream",
     "text": [
      "2023-11-19 12:48:56.127824: I tensorflow/core/util/port.cc:111] oneDNN custom operations are on. You may see slightly different numerical results due to floating-point round-off errors from different computation orders. To turn them off, set the environment variable `TF_ENABLE_ONEDNN_OPTS=0`.\n",
      "2023-11-19 12:48:56.182204: I tensorflow/tsl/cuda/cudart_stub.cc:28] Could not find cuda drivers on your machine, GPU will not be used.\n",
      "2023-11-19 12:48:56.463416: E tensorflow/compiler/xla/stream_executor/cuda/cuda_dnn.cc:9342] Unable to register cuDNN factory: Attempting to register factory for plugin cuDNN when one has already been registered\n",
      "2023-11-19 12:48:56.463466: E tensorflow/compiler/xla/stream_executor/cuda/cuda_fft.cc:609] Unable to register cuFFT factory: Attempting to register factory for plugin cuFFT when one has already been registered\n",
      "2023-11-19 12:48:56.465417: E tensorflow/compiler/xla/stream_executor/cuda/cuda_blas.cc:1518] Unable to register cuBLAS factory: Attempting to register factory for plugin cuBLAS when one has already been registered\n",
      "2023-11-19 12:48:56.594284: I tensorflow/tsl/cuda/cudart_stub.cc:28] Could not find cuda drivers on your machine, GPU will not be used.\n",
      "2023-11-19 12:48:56.595875: I tensorflow/core/platform/cpu_feature_guard.cc:182] This TensorFlow binary is optimized to use available CPU instructions in performance-critical operations.\n",
      "To enable the following instructions: AVX2 AVX512F AVX512_VNNI FMA, in other operations, rebuild TensorFlow with the appropriate compiler flags.\n",
      "2023-11-19 12:48:58.121181: W tensorflow/compiler/tf2tensorrt/utils/py_utils.cc:38] TF-TRT Warning: Could not find TensorRT\n"
     ]
    }
   ],
   "source": [
    "import numpy as np\n",
    "import matplotlib.pyplot as plt\n",
    "import tensorflow as tf\n",
    "\n",
    "from sklearn.metrics import accuracy_score, f1_score, recall_score, precision_score\n",
    "\n",
    "\n",
    "from task_4_core.hopfield import Hopfield "
   ]
  },
  {
   "cell_type": "code",
   "execution_count": 2,
   "metadata": {
    "ExecuteTime": {
     "end_time": "2023-11-19T10:49:01.414927879Z",
     "start_time": "2023-11-19T10:49:01.122903470Z"
    }
   },
   "outputs": [],
   "source": [
    "(train_images, train_labels), (test_images, test_labels) = tf.keras.datasets.mnist.load_data()"
   ]
  },
  {
   "cell_type": "code",
   "execution_count": 3,
   "metadata": {
    "ExecuteTime": {
     "end_time": "2023-11-19T10:49:01.415566517Z",
     "start_time": "2023-11-19T10:49:01.412805337Z"
    }
   },
   "outputs": [],
   "source": [
    "def binarize(threshold, data):\n",
    "    return np.where(data > threshold, 1, -1)"
   ]
  },
  {
   "cell_type": "code",
   "execution_count": 4,
   "metadata": {
    "ExecuteTime": {
     "end_time": "2023-11-19T10:49:01.427230148Z",
     "start_time": "2023-11-19T10:49:01.417784516Z"
    }
   },
   "outputs": [],
   "source": [
    "def get_input(threshold, class_count):\n",
    "    train_index = np.where(train_labels < class_count)\n",
    "    train_images_binarized = binarize(threshold, train_images).reshape(train_images.shape[0], train_images.shape[1] * train_images.shape[2])\n",
    "    \n",
    "    test_index = np.where(test_labels < class_count)\n",
    "    test_images_binarized = binarize(threshold, test_images).reshape(test_images.shape[0], test_images.shape[1] * test_images.shape[2])\n",
    "\n",
    "    return (train_images_binarized[train_index], train_labels[train_index]), (test_images_binarized[test_index], test_labels[test_index])"
   ]
  },
  {
   "cell_type": "code",
   "execution_count": 5,
   "metadata": {
    "ExecuteTime": {
     "end_time": "2023-11-19T10:35:10.853381458Z",
     "start_time": "2023-11-19T10:35:10.848213575Z"
    }
   },
   "outputs": [],
   "source": [
    "def hopfield_train_test(train_data_inp, test_data_inp, iterations, threshold=0, learning_rule='hebb', energy_function='classic', update_function='sync', async_iterations = 100):\n",
    "    # pick first instances of each class as a reference\n",
    "    train_data, labels = train_data_inp\n",
    "    unique_labels = np.unique(labels)\n",
    "    refs = list(map(lambda n: train_data[np.where(labels == n)[0][0]], unique_labels))\n",
    "\n",
    "    # put them in network memory and train the network on them\n",
    "    hopfield = Hopfield((28, 28))\n",
    "    hopfield.train_weights(refs, learning_rule)\n",
    "\n",
    "    test_data, labels_test = test_data_inp\n",
    "    predictions = []\n",
    "\n",
    "    # for each test:\n",
    "    for test_iter in range(test_data.shape[0]):\n",
    "        # example use the inference n times\n",
    "        result = hopfield.predict([test_data[test_iter]], iterations, threshold, energy_function, update_function, async_iterations)[-1]\n",
    "        \n",
    "        # then pick the label of the reference that has the least different elements - this is the classification result\n",
    "        refs_similarities = list(map(lambda ref: np.count_nonzero(ref==result), refs))\n",
    "        label_predicted = refs_similarities.index(max(refs_similarities))\n",
    "        predictions.append(label_predicted)\n",
    "\n",
    "    # evaluate the metrics based on the results\n",
    "    predictions = np.array(predictions)\n",
    "    \n",
    "    metrics = (\n",
    "        accuracy_score(labels_test, predictions),\n",
    "        f1_score(labels_test, predictions, average='macro'),\n",
    "        recall_score(labels_test, predictions, average='macro'),\n",
    "        precision_score(labels_test, predictions, average='macro', zero_division=0)\n",
    "    )\n",
    "\n",
    "    return hopfield, metrics"
   ]
  },
  {
   "cell_type": "code",
   "execution_count": 6,
   "metadata": {
    "ExecuteTime": {
     "end_time": "2023-11-19T09:35:25.519530710Z",
     "start_time": "2023-11-19T09:23:48.625974450Z"
    }
   },
   "outputs": [
    {
     "name": "stdout",
     "output_type": "stream",
     "text": [
      "Classes: 2\n",
      "With 1 iterations: Accuracy: 0.9867612293144208, F1: 0.9866635558806467, Recall: 0.9857839611615571, Precision: 0.9878479840085808\n",
      "\n",
      "\n",
      "\n",
      "With 1 iterations: Accuracy: 0.9872340425531915, F1: 0.9871409028727771, Recall: 0.9862941652431898, Precision: 0.9882695432388517\n",
      "\n",
      "\n",
      "\n",
      "Classes: 3\n",
      "With 1 iterations: Accuracy: 0.828725770575151, F1: 0.8287037920000827, Recall: 0.8244927578653631, Precision: 0.8444533764287708\n",
      "\n",
      "\n",
      "\n",
      "With 1 iterations: Accuracy: 0.8350810295519543, F1: 0.8325461633582701, Recall: 0.8293947046427764, Precision: 0.848295371158879\n",
      "\n",
      "\n",
      "\n",
      "Classes: 4\n"
     ]
    },
    {
     "name": "stderr",
     "output_type": "stream",
     "text": [
      "/home/volodymyr/.local/share/virtualenvs/python_neural_nets-VlmVW8YE/lib/python3.10/site-packages/sklearn/metrics/_classification.py:1471: UndefinedMetricWarning: Precision is ill-defined and being set to 0.0 in labels with no predicted samples. Use `zero_division` parameter to control this behavior.\n",
      "  _warn_prf(average, modifier, msg_start, len(result))\n"
     ]
    },
    {
     "name": "stdout",
     "output_type": "stream",
     "text": [
      "With 1 iterations: Accuracy: 0.35121481837863844, F1: 0.24651223223177426, Recall: 0.3433937779599085, Precision: 0.2859993364224955\n",
      "\n",
      "\n",
      "\n",
      "With 1 iterations: Accuracy: 0.6560019244647582, F1: 0.6419762861233907, Recall: 0.6481951805955148, Precision: 0.7317737569691168\n",
      "\n",
      "\n",
      "\n",
      "Classes: 5\n"
     ]
    },
    {
     "name": "stderr",
     "output_type": "stream",
     "text": [
      "/home/volodymyr/.local/share/virtualenvs/python_neural_nets-VlmVW8YE/lib/python3.10/site-packages/sklearn/metrics/_classification.py:1471: UndefinedMetricWarning: Precision is ill-defined and being set to 0.0 in labels with no predicted samples. Use `zero_division` parameter to control this behavior.\n",
      "  _warn_prf(average, modifier, msg_start, len(result))\n"
     ]
    },
    {
     "name": "stdout",
     "output_type": "stream",
     "text": [
      "With 1 iterations: Accuracy: 0.2303950184860868, F1: 0.12183759669617551, Recall: 0.2304209011209491, Precision: 0.20438443068687193\n",
      "With 1 iterations: Accuracy: 0.5709281961471103, F1: 0.5144181456322509, Recall: 0.5585490248202949, Precision: 0.7083319838938962\n",
      "\n",
      "\n",
      "\n",
      "Classes: 6\n"
     ]
    },
    {
     "name": "stderr",
     "output_type": "stream",
     "text": [
      "/home/volodymyr/.local/share/virtualenvs/python_neural_nets-VlmVW8YE/lib/python3.10/site-packages/sklearn/metrics/_classification.py:1471: UndefinedMetricWarning: Precision is ill-defined and being set to 0.0 in labels with no predicted samples. Use `zero_division` parameter to control this behavior.\n",
      "  _warn_prf(average, modifier, msg_start, len(result))\n"
     ]
    },
    {
     "name": "stdout",
     "output_type": "stream",
     "text": [
      "With 1 iterations: Accuracy: 0.1808986901011441, F1: 0.07075702075702077, Recall: 0.1785064189238307, Precision: 0.14041742860367987\n",
      "\n",
      "\n",
      "\n",
      "With 1 iterations: Accuracy: 0.3765544685790085, F1: 0.3131321053836585, Recall: 0.3597597487945279, Precision: 0.6203526623500738\n",
      "\n",
      "\n",
      "\n",
      "Classes: 7\n"
     ]
    },
    {
     "name": "stderr",
     "output_type": "stream",
     "text": [
      "/home/volodymyr/.local/share/virtualenvs/python_neural_nets-VlmVW8YE/lib/python3.10/site-packages/sklearn/metrics/_classification.py:1471: UndefinedMetricWarning: Precision is ill-defined and being set to 0.0 in labels with no predicted samples. Use `zero_division` parameter to control this behavior.\n",
      "  _warn_prf(average, modifier, msg_start, len(result))\n"
     ]
    },
    {
     "name": "stdout",
     "output_type": "stream",
     "text": [
      "With 1 iterations: Accuracy: 0.1752754328230076, F1: 0.08084438246162114, Recall: 0.16984030058134825, Precision: 0.12287843526342626\n",
      "\n",
      "\n",
      "\n",
      "With 1 iterations: Accuracy: 0.3984833309486336, F1: 0.35049812408309483, Recall: 0.3828000265100571, Precision: 0.6138185583229595\n",
      "\n",
      "\n",
      "\n",
      "Classes: 8\n"
     ]
    },
    {
     "name": "stderr",
     "output_type": "stream",
     "text": [
      "/home/volodymyr/.local/share/virtualenvs/python_neural_nets-VlmVW8YE/lib/python3.10/site-packages/sklearn/metrics/_classification.py:1471: UndefinedMetricWarning: Precision is ill-defined and being set to 0.0 in labels with no predicted samples. Use `zero_division` parameter to control this behavior.\n",
      "  _warn_prf(average, modifier, msg_start, len(result))\n"
     ]
    },
    {
     "name": "stdout",
     "output_type": "stream",
     "text": [
      "With 1 iterations: Accuracy: 0.16427591368342273, F1: 0.07784503649226462, Recall: 0.15863337985780956, Precision: 0.0947305962691539\n",
      "\n",
      "\n",
      "\n",
      "With 1 iterations: Accuracy: 0.4796058375951104, F1: 0.43739277578568353, Recall: 0.4659079820153561, Precision: 0.5792210881349769\n",
      "\n",
      "\n",
      "\n",
      "Classes: 9\n"
     ]
    },
    {
     "name": "stderr",
     "output_type": "stream",
     "text": [
      "/home/volodymyr/.local/share/virtualenvs/python_neural_nets-VlmVW8YE/lib/python3.10/site-packages/sklearn/metrics/_classification.py:1471: UndefinedMetricWarning: Precision is ill-defined and being set to 0.0 in labels with no predicted samples. Use `zero_division` parameter to control this behavior.\n",
      "  _warn_prf(average, modifier, msg_start, len(result))\n"
     ]
    },
    {
     "name": "stdout",
     "output_type": "stream",
     "text": [
      "With 1 iterations: Accuracy: 0.12212212212212212, F1: 0.041902985696836294, Recall: 0.12325012236906512, Precision: 0.06288170293676143\n",
      "\n",
      "\n",
      "\n",
      "With 1 iterations: Accuracy: 0.25325325325325326, F1: 0.23488635720268825, Recall: 0.25128517795017424, Precision: 0.5336773756038277\n"
     ]
    }
   ],
   "source": [
    "for class_count in range(2, 10):\n",
    "    train, test = get_input(1, class_count)\n",
    "    print(f\"Classes: {class_count}\")\n",
    "\n",
    "    for iterations in range(1, 2, 1):\n",
    "        model, (accuracy, f1, recall, precision) = hopfield_train_test(train, test, 10, 100, 'hebb', 'classic', 'sync')\n",
    "        print(f\"With {iterations} iterations: Accuracy: {accuracy}, F1: {f1}, Recall: {recall}, Precision: {precision}\")\n",
    "\n",
    "    print('\\n\\n\\n')\n",
    "\n",
    "    for iterations in range(1, 2, 1):\n",
    "        model, (accuracy, f1, recall, precision) = hopfield_train_test(train, test, 10, 100, 'hebb', 'classic', 'async', async_iterations = 100)\n",
    "        print(f\"With {iterations} iterations: Accuracy: {accuracy}, F1: {f1}, Recall: {recall}, Precision: {precision}\")\n",
    "\n",
    "    print('\\n\\n\\n')"
   ]
  },
  {
   "cell_type": "code",
   "execution_count": 5,
   "outputs": [],
   "source": [
    "def train_and_visualize(learn_rule: str, nums_used, test_len=20):\n",
    "    train, test = get_input(1, nums_used)\n",
    "    classes = list(np.unique(train[1]))\n",
    "    references = list(map(lambda n: train[0][np.where(train[1] == n)[0]][0], classes))\n",
    "    \n",
    "    model = Hopfield((28, 28))\n",
    "    model.train_weights(references, learn_rule)\n",
    "    print(f'Using function {learn_rule} as a learning rule:')\n",
    "    predictions = []\n",
    "    for i in range(test_len):\n",
    "        label = test[1][i]\n",
    "        image = test[0][i]\n",
    "        predicted = model.predict([image], 1, threshold=0, energy_function='exp', update_function='demircigil')[0]\n",
    "        \n",
    "        reference_similarities = list(map(lambda ref: np.count_nonzero(ref == predicted), references))\n",
    "        prediction = reference_similarities.index(max(reference_similarities))\n",
    "        predictions.append(prediction)\n",
    "        print(f'Predicted value = {prediction}, actual label = {label}')\n",
    "        fig, (ax1, ax2, ax3, ax4) = plt.subplots(ncols=4)\n",
    "        fig.tight_layout(pad=1.0)\n",
    "    \n",
    "        ax1.imshow(references[label].reshape(28, 28), cmap='Greys',  interpolation='nearest')\n",
    "        ax1.set_title(\"Memory\")\n",
    "        ax2.imshow(image.reshape(28, 28), cmap='Greys',  interpolation='nearest')\n",
    "        ax2.set_title(\"Input\")\n",
    "        ax3.imshow(predicted.reshape(28, 28), cmap='Greys',  interpolation='nearest')\n",
    "        ax3.set_title(\"Output\")\n",
    "        ax4.imshow(references[prediction].reshape(28, 28), cmap='Greys',  interpolation='nearest')\n",
    "        ax4.set_title(\"Closest memory\")\n",
    "    \n",
    "        plt.show()\n",
    "    return accuracy_score(test[1][:test_len], predictions)"
   ],
   "metadata": {
    "collapsed": false,
    "ExecuteTime": {
     "end_time": "2023-11-19T10:49:02.828072817Z",
     "start_time": "2023-11-19T10:49:02.822596201Z"
    }
   }
  },
  {
   "cell_type": "code",
   "execution_count": null,
   "metadata": {
    "is_executing": true
   },
   "outputs": [],
   "source": [
    "for classes_used in [2,5,10]:\n",
    "    accuracy = train_and_visualize('demircigil', classes_used)\n",
    "    print(f'Total accuracy for nums 1 - {classes_used - 1} is {accuracy}')"
   ]
  },
  {
   "cell_type": "markdown",
   "source": [
    "As we can see, predicted labels are coming directly from predicted images, which are produced by the Hopfield network by comparing to memory-cached training data. Overall accuracy is falling down when we increase train/test number of classes. This can be explained by the fact that wih higher number of train/test, there is more chances for \"ugly\" numbers to be either \"cached\" by the model, or tested. In this case, obviously, model is trying to find the closest similar picture, which often is not the right number, thus leading to decreased accuracy."
   ],
   "metadata": {
    "collapsed": false
   }
  }
 ],
 "metadata": {
  "kernelspec": {
   "display_name": "anns3.9",
   "language": "python",
   "name": "python3"
  },
  "language_info": {
   "codemirror_mode": {
    "name": "ipython",
    "version": 3
   },
   "file_extension": ".py",
   "mimetype": "text/x-python",
   "name": "python",
   "nbconvert_exporter": "python",
   "pygments_lexer": "ipython3",
   "version": "3.9.18"
  }
 },
 "nbformat": 4,
 "nbformat_minor": 2
}
