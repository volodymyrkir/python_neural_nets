{
  "nbformat": 4,
  "nbformat_minor": 0,
  "metadata": {
    "colab": {
      "provenance": [],
      "gpuType": "T4"
    },
    "kernelspec": {
      "name": "python3",
      "display_name": "Python 3"
    },
    "language_info": {
      "name": "python"
    },
    "accelerator": "GPU"
  },
  "cells": [
    {
      "cell_type": "code",
      "source": [
        "# !pip install -q ipywidgets==7.7.1 huggingface_hub"
      ],
      "metadata": {
        "id": "1iQ6vSOiGvKp"
      },
      "execution_count": null,
      "outputs": []
    },
    {
      "cell_type": "code",
      "execution_count": 1,
      "metadata": {
        "id": "731YpTqZfdM3"
      },
      "outputs": [],
      "source": [
        "import tensorflow as tf\n",
        "\n",
        "import numpy as np\n",
        "import os\n",
        "import time\n",
        "\n",
        "from itertools import product\n",
        "import matplotlib.pyplot as plt"
      ]
    },
    {
      "cell_type": "code",
      "source": [
        "import pandas as pd\n",
        "\n",
        "# Login using e.g. `huggingface-cli login` to access this dataset\n",
        "df = pd.read_parquet(\"hf://datasets/Goedel-LM/Lean-workbook-proofs/data/train-00000-of-00001.parquet\")"
      ],
      "metadata": {
        "id": "F7j9X9t3ZF1V",
        "colab": {
          "base_uri": "https://localhost:8080/"
        },
        "outputId": "15c37519-9c65-4fc6-c322-b93fc33e7b90"
      },
      "execution_count": 2,
      "outputs": [
        {
          "output_type": "stream",
          "name": "stderr",
          "text": [
            "/usr/local/lib/python3.11/dist-packages/huggingface_hub/utils/_auth.py:94: UserWarning: \n",
            "The secret `HF_TOKEN` does not exist in your Colab secrets.\n",
            "To authenticate with the Hugging Face Hub, create a token in your settings tab (https://huggingface.co/settings/tokens), set it as secret in your Google Colab and restart your session.\n",
            "You will be able to reuse this secret in all of your notebooks.\n",
            "Please note that authentication is recommended but still optional to access public models or datasets.\n",
            "  warnings.warn(\n"
          ]
        }
      ]
    },
    {
      "cell_type": "code",
      "source": [
        "df['full_proof'].str.cat(sep='\\n')[:100]"
      ],
      "metadata": {
        "colab": {
          "base_uri": "https://localhost:8080/",
          "height": 35
        },
        "id": "cVYW6V46ZJnV",
        "outputId": "7e3a6ab5-d54a-407b-bb77-7ed9e7194f11"
      },
      "execution_count": 3,
      "outputs": [
        {
          "output_type": "execute_result",
          "data": {
            "text/plain": [
              "'import Mathlib\\nimport Aesop\\n\\nset_option maxHeartbeats 0\\n\\nopen BigOperators Real Nat Topology Rat\\n\\n/-'"
            ],
            "application/vnd.google.colaboratory.intrinsic+json": {
              "type": "string"
            }
          },
          "metadata": {},
          "execution_count": 3
        }
      ]
    },
    {
      "cell_type": "code",
      "source": [
        "path_to_file = tf.keras.utils.get_file('shakespeare.txt', 'https://storage.googleapis.com/download.tensorflow.org/data/shakespeare.txt')"
      ],
      "metadata": {
        "colab": {
          "base_uri": "https://localhost:8080/"
        },
        "id": "eF9JDE3VrdFU",
        "outputId": "39f42ffc-ae55-4520-e113-7d89961ec816"
      },
      "execution_count": 4,
      "outputs": [
        {
          "output_type": "stream",
          "name": "stdout",
          "text": [
            "Downloading data from https://storage.googleapis.com/download.tensorflow.org/data/shakespeare.txt\n",
            "\u001b[1m1115394/1115394\u001b[0m \u001b[32m━━━━━━━━━━━━━━━━━━━━\u001b[0m\u001b[37m\u001b[0m \u001b[1m0s\u001b[0m 0us/step\n"
          ]
        }
      ]
    },
    {
      "cell_type": "code",
      "source": [
        "# Read, then decode for py2 compat.\n",
        "# text = open(path_to_file, 'rb').read().decode(encoding='utf-8')\n",
        "text = df['full_proof'].str.cat(sep='\\n')[:4_000_000]\n",
        "# length of text is the number of characters in it\n",
        "print(f'Length of text: {len(text)} characters')"
      ],
      "metadata": {
        "colab": {
          "base_uri": "https://localhost:8080/"
        },
        "id": "zyhaRDgUrg4m",
        "outputId": "1202f6c8-c6e1-4f03-968c-5f960aa50247"
      },
      "execution_count": 5,
      "outputs": [
        {
          "output_type": "stream",
          "name": "stdout",
          "text": [
            "Length of text: 4000000 characters\n"
          ]
        }
      ]
    },
    {
      "cell_type": "code",
      "source": [
        "# Take a look at the first 250 characters in text\n",
        "print(text[:250])"
      ],
      "metadata": {
        "colab": {
          "base_uri": "https://localhost:8080/"
        },
        "id": "M89mG8_BrjNb",
        "outputId": "337f1adf-71e6-4617-cdf5-9318219ab5c8"
      },
      "execution_count": 6,
      "outputs": [
        {
          "output_type": "stream",
          "name": "stdout",
          "text": [
            "import Mathlib\n",
            "import Aesop\n",
            "\n",
            "set_option maxHeartbeats 0\n",
            "\n",
            "open BigOperators Real Nat Topology Rat\n",
            "\n",
            "/- prove that $a^{3}+b^{3}+c^{3}+{\\frac {15\\,abc}{4}} \\geq \\frac{1}{4}$ given $a, b, c,$ are non-negative reals such that $a+b+c=1$ -/\n",
            "theorem lean_work\n"
          ]
        }
      ]
    },
    {
      "cell_type": "code",
      "source": [
        "# The unique characters in the file\n",
        "vocab = sorted(set(text))\n",
        "print(f'{len(vocab)} unique characters')"
      ],
      "metadata": {
        "colab": {
          "base_uri": "https://localhost:8080/"
        },
        "id": "aMwg97BirlO2",
        "outputId": "5f0c502a-3f8a-4e37-af75-79f7caf5b8d3"
      },
      "execution_count": 7,
      "outputs": [
        {
          "output_type": "stream",
          "name": "stdout",
          "text": [
            "164 unique characters\n"
          ]
        }
      ]
    },
    {
      "cell_type": "code",
      "source": [
        "ids_from_chars = tf.keras.layers.StringLookup(vocabulary=list(vocab), mask_token=None)\n",
        "ids = ids_from_chars(['abcdefg', 'xyz'])\n",
        "ids"
      ],
      "metadata": {
        "colab": {
          "base_uri": "https://localhost:8080/"
        },
        "id": "2mkkzZS2rrGR",
        "outputId": "bd11b45a-41d1-4eb0-a758-ac00159325fa"
      },
      "execution_count": 8,
      "outputs": [
        {
          "output_type": "execute_result",
          "data": {
            "text/plain": [
              "<tf.Tensor: shape=(2,), dtype=int64, numpy=array([0, 0])>"
            ]
          },
          "metadata": {},
          "execution_count": 8
        }
      ]
    },
    {
      "cell_type": "code",
      "source": [
        "chars_from_ids = tf.keras.layers.StringLookup(vocabulary=ids_from_chars.get_vocabulary(), invert=True, mask_token=None)\n",
        "chars = chars_from_ids(ids)\n",
        "chars"
      ],
      "metadata": {
        "colab": {
          "base_uri": "https://localhost:8080/"
        },
        "id": "vi039Tj5rt2w",
        "outputId": "e3c99d93-88f2-4dbe-e5bc-f31e3307e575"
      },
      "execution_count": 9,
      "outputs": [
        {
          "output_type": "execute_result",
          "data": {
            "text/plain": [
              "<tf.Tensor: shape=(2,), dtype=string, numpy=array([b'[UNK]', b'[UNK]'], dtype=object)>"
            ]
          },
          "metadata": {},
          "execution_count": 9
        }
      ]
    },
    {
      "cell_type": "code",
      "source": [
        "tf.strings.reduce_join(chars, axis=-1).numpy()"
      ],
      "metadata": {
        "colab": {
          "base_uri": "https://localhost:8080/"
        },
        "id": "RCXfnAEErznW",
        "outputId": "77ae7538-6144-47c4-baf9-fcc159aac5e8"
      },
      "execution_count": 10,
      "outputs": [
        {
          "output_type": "execute_result",
          "data": {
            "text/plain": [
              "b'[UNK][UNK]'"
            ]
          },
          "metadata": {},
          "execution_count": 10
        }
      ]
    },
    {
      "cell_type": "code",
      "source": [
        "def text_from_ids(ids):\n",
        "  return tf.strings.reduce_join(chars_from_ids(ids), axis=-1)"
      ],
      "metadata": {
        "id": "of8HWyERr0ub"
      },
      "execution_count": 11,
      "outputs": []
    },
    {
      "cell_type": "code",
      "source": [
        "all_ids = ids_from_chars(tf.strings.unicode_split(text, 'UTF-8'))\n",
        "all_ids"
      ],
      "metadata": {
        "colab": {
          "base_uri": "https://localhost:8080/"
        },
        "id": "WyYs-oKQr2Rn",
        "outputId": "c06b8850-09c0-4dff-953d-d99ee516ea39"
      },
      "execution_count": 12,
      "outputs": [
        {
          "output_type": "execute_result",
          "data": {
            "text/plain": [
              "<tf.Tensor: shape=(4000000,), dtype=int64, numpy=array([74, 78, 81, ..., 10, 62,  1])>"
            ]
          },
          "metadata": {},
          "execution_count": 12
        }
      ]
    },
    {
      "cell_type": "code",
      "source": [
        "ids_dataset = tf.data.Dataset.from_tensor_slices(all_ids)"
      ],
      "metadata": {
        "id": "-ZsJCT4ksIH7"
      },
      "execution_count": 13,
      "outputs": []
    },
    {
      "cell_type": "code",
      "source": [
        "for ids in ids_dataset.take(10):\n",
        "    print(chars_from_ids(ids).numpy().decode('utf-8'))"
      ],
      "metadata": {
        "colab": {
          "base_uri": "https://localhost:8080/"
        },
        "id": "kDmkHRp8sJnH",
        "outputId": "74f5bb9c-342c-4534-e20d-afb5028cada9"
      },
      "execution_count": 14,
      "outputs": [
        {
          "output_type": "stream",
          "name": "stdout",
          "text": [
            "i\n",
            "m\n",
            "p\n",
            "o\n",
            "r\n",
            "t\n",
            " \n",
            "M\n",
            "a\n",
            "t\n"
          ]
        }
      ]
    },
    {
      "cell_type": "code",
      "source": [
        "seq_length = 100"
      ],
      "metadata": {
        "id": "qDxyfo4msK5B"
      },
      "execution_count": 15,
      "outputs": []
    },
    {
      "cell_type": "code",
      "source": [
        "sequences = ids_dataset.batch(seq_length+1, drop_remainder=True)\n",
        "\n",
        "for seq in sequences.take(1):\n",
        "  print(chars_from_ids(seq))"
      ],
      "metadata": {
        "colab": {
          "base_uri": "https://localhost:8080/"
        },
        "id": "c98hIZ5XsMKl",
        "outputId": "9631ee10-24d1-442e-fbc7-17c9acb1eba7"
      },
      "execution_count": 16,
      "outputs": [
        {
          "output_type": "stream",
          "name": "stdout",
          "text": [
            "tf.Tensor(\n",
            "[b'i' b'm' b'p' b'o' b'r' b't' b' ' b'M' b'a' b't' b'h' b'l' b'i' b'b'\n",
            " b'\\n' b'i' b'm' b'p' b'o' b'r' b't' b' ' b'A' b'e' b's' b'o' b'p' b'\\n'\n",
            " b'\\n' b's' b'e' b't' b'_' b'o' b'p' b't' b'i' b'o' b'n' b' ' b'm' b'a'\n",
            " b'x' b'H' b'e' b'a' b'r' b't' b'b' b'e' b'a' b't' b's' b' ' b'0' b'\\n'\n",
            " b'\\n' b'o' b'p' b'e' b'n' b' ' b'B' b'i' b'g' b'O' b'p' b'e' b'r' b'a'\n",
            " b't' b'o' b'r' b's' b' ' b'R' b'e' b'a' b'l' b' ' b'N' b'a' b't' b' '\n",
            " b'T' b'o' b'p' b'o' b'l' b'o' b'g' b'y' b' ' b'R' b'a' b't' b'\\n' b'\\n'\n",
            " b'/' b'-' b' '], shape=(101,), dtype=string)\n"
          ]
        }
      ]
    },
    {
      "cell_type": "code",
      "source": [
        "for seq in sequences.take(5):\n",
        "  print(text_from_ids(seq).numpy())"
      ],
      "metadata": {
        "colab": {
          "base_uri": "https://localhost:8080/"
        },
        "id": "odo_2S6OsNq1",
        "outputId": "46131abc-1c43-4ba2-ff91-6c19a57836e0"
      },
      "execution_count": 17,
      "outputs": [
        {
          "output_type": "stream",
          "name": "stdout",
          "text": [
            "b'import Mathlib\\nimport Aesop\\n\\nset_option maxHeartbeats 0\\n\\nopen BigOperators Real Nat Topology Rat\\n\\n/- '\n",
            "b'prove that $a^{3}+b^{3}+c^{3}+{\\\\frac {15\\\\,abc}{4}} \\\\geq \\\\frac{1}{4}$ given $a, b, c,$ are non-negativ'\n",
            "b'e reals such that $a+b+c=1$ -/\\ntheorem lean_workbook_10009 (a b c: \\xe2\\x84\\x9d) (ha : a \\xe2\\x89\\xa5 0 \\xe2\\x88\\xa7 b \\xe2\\x89\\xa5 0 \\xe2\\x88\\xa7 c \\xe2\\x89\\xa5 0 \\xe2\\x88\\xa7 a'\n",
            "b' + b + c = 1): a^3 + b^3 + c^3 + (15 * a * b * c)/4 \\xe2\\x89\\xa5 1/4  := by\\n  /-\\n  Given non-negative real numbe'\n",
            "b'rs \\\\(a\\\\), \\\\(b\\\\), and \\\\(c\\\\) such that \\\\(a + b + c = 1\\\\), we need to prove that \\\\(a^3 + b^3 + c^3 + \\\\fr'\n"
          ]
        }
      ]
    },
    {
      "cell_type": "code",
      "source": [
        "def split_input_target(sequence):\n",
        "    input_text = sequence[:-1]\n",
        "    target_text = sequence[1:]\n",
        "    return input_text, target_text"
      ],
      "metadata": {
        "id": "YZVyViDIsO55"
      },
      "execution_count": 18,
      "outputs": []
    },
    {
      "cell_type": "code",
      "source": [
        "split_input_target(list(\"Tensorflow\"))"
      ],
      "metadata": {
        "colab": {
          "base_uri": "https://localhost:8080/"
        },
        "id": "tFUiDtNOsQPu",
        "outputId": "155dd987-904d-453b-82c2-808b87dd98ea"
      },
      "execution_count": 19,
      "outputs": [
        {
          "output_type": "execute_result",
          "data": {
            "text/plain": [
              "(['T', 'e', 'n', 's', 'o', 'r', 'f', 'l', 'o'],\n",
              " ['e', 'n', 's', 'o', 'r', 'f', 'l', 'o', 'w'])"
            ]
          },
          "metadata": {},
          "execution_count": 19
        }
      ]
    },
    {
      "cell_type": "code",
      "source": [
        "dataset = sequences.map(split_input_target)\n",
        "train_dataset, val_dataset = tf.keras.utils.split_dataset(\n",
        "    dataset, left_size=0.96, right_size=0.04, shuffle=False, seed=42\n",
        ")"
      ],
      "metadata": {
        "id": "1WgYjDMTsRee"
      },
      "execution_count": 20,
      "outputs": []
    },
    {
      "cell_type": "code",
      "source": [
        "for input_example, target_example in dataset.take(1):\n",
        "    print(\"Input :\", text_from_ids(input_example).numpy())\n",
        "    print(\"Target:\", text_from_ids(target_example).numpy())"
      ],
      "metadata": {
        "colab": {
          "base_uri": "https://localhost:8080/"
        },
        "id": "vu6982-gsS0c",
        "outputId": "a1fc9d66-389b-4f4e-b28d-8656612b4588"
      },
      "execution_count": 21,
      "outputs": [
        {
          "output_type": "stream",
          "name": "stdout",
          "text": [
            "Input : b'import Mathlib\\nimport Aesop\\n\\nset_option maxHeartbeats 0\\n\\nopen BigOperators Real Nat Topology Rat\\n\\n/-'\n",
            "Target: b'mport Mathlib\\nimport Aesop\\n\\nset_option maxHeartbeats 0\\n\\nopen BigOperators Real Nat Topology Rat\\n\\n/- '\n"
          ]
        }
      ]
    },
    {
      "cell_type": "code",
      "source": [
        "# Batch size\n",
        "BATCH_SIZE = 64\n",
        "\n",
        "# Buffer size to shuffle the dataset\n",
        "# (TF data is designed to work with possibly infinite sequences,\n",
        "# so it doesn't attempt to shuffle the entire sequence in memory. Instead,\n",
        "# it maintains a buffer in which it shuffles elements).\n",
        "BUFFER_SIZE = 10000\n",
        "\n",
        "train_dataset = (\n",
        "    train_dataset\n",
        "    .shuffle(BUFFER_SIZE)\n",
        "    # .batch(BATCH_SIZE, drop_remainder=True)\n",
        "    .prefetch(tf.data.experimental.AUTOTUNE)\n",
        "  )\n",
        "\n",
        "val_dataset = (\n",
        "    val_dataset\n",
        "    .shuffle(BUFFER_SIZE)\n",
        "    # .batch(BATCH_SIZE, drop_remainder=True)\n",
        "    .prefetch(tf.data.experimental.AUTOTUNE)\n",
        "  )\n",
        "\n",
        "train_dataset, val_dataset"
      ],
      "metadata": {
        "colab": {
          "base_uri": "https://localhost:8080/"
        },
        "id": "9iKZ6lb0sT5g",
        "outputId": "14e0f563-eb74-4cd6-b112-c528cabcf039"
      },
      "execution_count": 22,
      "outputs": [
        {
          "output_type": "execute_result",
          "data": {
            "text/plain": [
              "(<_PrefetchDataset element_spec=(TensorSpec(shape=(100,), dtype=tf.int64, name=None), TensorSpec(shape=(100,), dtype=tf.int64, name=None))>,\n",
              " <_PrefetchDataset element_spec=(TensorSpec(shape=(100,), dtype=tf.int64, name=None), TensorSpec(shape=(100,), dtype=tf.int64, name=None))>)"
            ]
          },
          "metadata": {},
          "execution_count": 22
        }
      ]
    },
    {
      "cell_type": "code",
      "source": [
        "# Length of the vocabulary in StringLookup Layer\n",
        "vocab_size = len(ids_from_chars.get_vocabulary())\n",
        "\n",
        "# The embedding dimension\n",
        "embedding_dim = 256\n",
        "\n",
        "# Number of RNN units\n",
        "rnn_units = 1024"
      ],
      "metadata": {
        "id": "J_eEHRm8sVea"
      },
      "execution_count": 23,
      "outputs": []
    },
    {
      "cell_type": "code",
      "source": [
        "class MyModel(tf.keras.Model):\n",
        "  def __init__(self, vocab_size, embedding_dim, rnn_units):\n",
        "    super().__init__()\n",
        "    self.embedding = tf.keras.layers.Embedding(vocab_size, embedding_dim)\n",
        "    self.lstm = tf.keras.layers.LSTM(rnn_units,\n",
        "                                   return_sequences=True,\n",
        "                                   return_state=True)\n",
        "    self.dense = tf.keras.layers.Dense(vocab_size)\n",
        "\n",
        "  def call(self, inputs, states=None, return_state=False, training=False):\n",
        "    x = inputs\n",
        "    x = self.embedding(x, training=training)\n",
        "    if states is None and x.shape[0] is not None:\n",
        "      states = self.lstm.get_initial_state(x.shape[0])\n",
        "    x, memory_states, carry_states = self.lstm(x, initial_state=states, training=training)\n",
        "    states = [memory_states, carry_states]\n",
        "    x = self.dense(x, training=training)\n",
        "\n",
        "    if return_state:\n",
        "      return x, states\n",
        "    else:\n",
        "      return x"
      ],
      "metadata": {
        "id": "eJ_8ICimsaya"
      },
      "execution_count": 24,
      "outputs": []
    },
    {
      "cell_type": "code",
      "source": [
        "model = MyModel(\n",
        "    vocab_size=vocab_size,\n",
        "    embedding_dim=embedding_dim,\n",
        "    rnn_units=rnn_units)"
      ],
      "metadata": {
        "id": "F6p6XH2cscQt"
      },
      "execution_count": 25,
      "outputs": []
    },
    {
      "cell_type": "code",
      "source": [
        "for input_example_batch, target_example_batch in train_dataset.batch(64).take(1):\n",
        "    example_batch_predictions = model(input_example_batch)\n",
        "    print(example_batch_predictions.shape, \"# (batch_size, sequence_length, vocab_size)\")"
      ],
      "metadata": {
        "colab": {
          "base_uri": "https://localhost:8080/"
        },
        "id": "upxX9lAtshx5",
        "outputId": "a59145b5-b35b-441b-978b-3296c7b9688d"
      },
      "execution_count": 26,
      "outputs": [
        {
          "output_type": "stream",
          "name": "stdout",
          "text": [
            "(64, 100, 165) # (batch_size, sequence_length, vocab_size)\n"
          ]
        }
      ]
    },
    {
      "cell_type": "code",
      "source": [
        "model.summary()"
      ],
      "metadata": {
        "colab": {
          "base_uri": "https://localhost:8080/",
          "height": 241
        },
        "id": "puFhePiWsi5T",
        "outputId": "b20d6284-dbfb-4446-fbf1-181bb0982731"
      },
      "execution_count": 27,
      "outputs": [
        {
          "output_type": "display_data",
          "data": {
            "text/plain": [
              "\u001b[1mModel: \"my_model\"\u001b[0m\n"
            ],
            "text/html": [
              "<pre style=\"white-space:pre;overflow-x:auto;line-height:normal;font-family:Menlo,'DejaVu Sans Mono',consolas,'Courier New',monospace\"><span style=\"font-weight: bold\">Model: \"my_model\"</span>\n",
              "</pre>\n"
            ]
          },
          "metadata": {}
        },
        {
          "output_type": "display_data",
          "data": {
            "text/plain": [
              "┏━━━━━━━━━━━━━━━━━━━━━━━━━━━━━━━━━┳━━━━━━━━━━━━━━━━━━━━━━━━┳━━━━━━━━━━━━━━━┓\n",
              "┃\u001b[1m \u001b[0m\u001b[1mLayer (type)                   \u001b[0m\u001b[1m \u001b[0m┃\u001b[1m \u001b[0m\u001b[1mOutput Shape          \u001b[0m\u001b[1m \u001b[0m┃\u001b[1m \u001b[0m\u001b[1m      Param #\u001b[0m\u001b[1m \u001b[0m┃\n",
              "┡━━━━━━━━━━━━━━━━━━━━━━━━━━━━━━━━━╇━━━━━━━━━━━━━━━━━━━━━━━━╇━━━━━━━━━━━━━━━┩\n",
              "│ embedding (\u001b[38;5;33mEmbedding\u001b[0m)           │ (\u001b[38;5;34m64\u001b[0m, \u001b[38;5;34m100\u001b[0m, \u001b[38;5;34m256\u001b[0m)         │        \u001b[38;5;34m42,240\u001b[0m │\n",
              "├─────────────────────────────────┼────────────────────────┼───────────────┤\n",
              "│ lstm (\u001b[38;5;33mLSTM\u001b[0m)                     │ ((\u001b[38;5;34m64\u001b[0m, \u001b[38;5;34m100\u001b[0m, \u001b[38;5;34m1024\u001b[0m), (\u001b[38;5;34m64\u001b[0m, │     \u001b[38;5;34m5,246,976\u001b[0m │\n",
              "│                                 │ \u001b[38;5;34m1024\u001b[0m), (\u001b[38;5;34m64\u001b[0m, \u001b[38;5;34m1024\u001b[0m))     │               │\n",
              "├─────────────────────────────────┼────────────────────────┼───────────────┤\n",
              "│ dense (\u001b[38;5;33mDense\u001b[0m)                   │ (\u001b[38;5;34m64\u001b[0m, \u001b[38;5;34m100\u001b[0m, \u001b[38;5;34m165\u001b[0m)         │       \u001b[38;5;34m169,125\u001b[0m │\n",
              "└─────────────────────────────────┴────────────────────────┴───────────────┘\n"
            ],
            "text/html": [
              "<pre style=\"white-space:pre;overflow-x:auto;line-height:normal;font-family:Menlo,'DejaVu Sans Mono',consolas,'Courier New',monospace\">┏━━━━━━━━━━━━━━━━━━━━━━━━━━━━━━━━━┳━━━━━━━━━━━━━━━━━━━━━━━━┳━━━━━━━━━━━━━━━┓\n",
              "┃<span style=\"font-weight: bold\"> Layer (type)                    </span>┃<span style=\"font-weight: bold\"> Output Shape           </span>┃<span style=\"font-weight: bold\">       Param # </span>┃\n",
              "┡━━━━━━━━━━━━━━━━━━━━━━━━━━━━━━━━━╇━━━━━━━━━━━━━━━━━━━━━━━━╇━━━━━━━━━━━━━━━┩\n",
              "│ embedding (<span style=\"color: #0087ff; text-decoration-color: #0087ff\">Embedding</span>)           │ (<span style=\"color: #00af00; text-decoration-color: #00af00\">64</span>, <span style=\"color: #00af00; text-decoration-color: #00af00\">100</span>, <span style=\"color: #00af00; text-decoration-color: #00af00\">256</span>)         │        <span style=\"color: #00af00; text-decoration-color: #00af00\">42,240</span> │\n",
              "├─────────────────────────────────┼────────────────────────┼───────────────┤\n",
              "│ lstm (<span style=\"color: #0087ff; text-decoration-color: #0087ff\">LSTM</span>)                     │ ((<span style=\"color: #00af00; text-decoration-color: #00af00\">64</span>, <span style=\"color: #00af00; text-decoration-color: #00af00\">100</span>, <span style=\"color: #00af00; text-decoration-color: #00af00\">1024</span>), (<span style=\"color: #00af00; text-decoration-color: #00af00\">64</span>, │     <span style=\"color: #00af00; text-decoration-color: #00af00\">5,246,976</span> │\n",
              "│                                 │ <span style=\"color: #00af00; text-decoration-color: #00af00\">1024</span>), (<span style=\"color: #00af00; text-decoration-color: #00af00\">64</span>, <span style=\"color: #00af00; text-decoration-color: #00af00\">1024</span>))     │               │\n",
              "├─────────────────────────────────┼────────────────────────┼───────────────┤\n",
              "│ dense (<span style=\"color: #0087ff; text-decoration-color: #0087ff\">Dense</span>)                   │ (<span style=\"color: #00af00; text-decoration-color: #00af00\">64</span>, <span style=\"color: #00af00; text-decoration-color: #00af00\">100</span>, <span style=\"color: #00af00; text-decoration-color: #00af00\">165</span>)         │       <span style=\"color: #00af00; text-decoration-color: #00af00\">169,125</span> │\n",
              "└─────────────────────────────────┴────────────────────────┴───────────────┘\n",
              "</pre>\n"
            ]
          },
          "metadata": {}
        },
        {
          "output_type": "display_data",
          "data": {
            "text/plain": [
              "\u001b[1m Total params: \u001b[0m\u001b[38;5;34m5,458,341\u001b[0m (20.82 MB)\n"
            ],
            "text/html": [
              "<pre style=\"white-space:pre;overflow-x:auto;line-height:normal;font-family:Menlo,'DejaVu Sans Mono',consolas,'Courier New',monospace\"><span style=\"font-weight: bold\"> Total params: </span><span style=\"color: #00af00; text-decoration-color: #00af00\">5,458,341</span> (20.82 MB)\n",
              "</pre>\n"
            ]
          },
          "metadata": {}
        },
        {
          "output_type": "display_data",
          "data": {
            "text/plain": [
              "\u001b[1m Trainable params: \u001b[0m\u001b[38;5;34m5,458,341\u001b[0m (20.82 MB)\n"
            ],
            "text/html": [
              "<pre style=\"white-space:pre;overflow-x:auto;line-height:normal;font-family:Menlo,'DejaVu Sans Mono',consolas,'Courier New',monospace\"><span style=\"font-weight: bold\"> Trainable params: </span><span style=\"color: #00af00; text-decoration-color: #00af00\">5,458,341</span> (20.82 MB)\n",
              "</pre>\n"
            ]
          },
          "metadata": {}
        },
        {
          "output_type": "display_data",
          "data": {
            "text/plain": [
              "\u001b[1m Non-trainable params: \u001b[0m\u001b[38;5;34m0\u001b[0m (0.00 B)\n"
            ],
            "text/html": [
              "<pre style=\"white-space:pre;overflow-x:auto;line-height:normal;font-family:Menlo,'DejaVu Sans Mono',consolas,'Courier New',monospace\"><span style=\"font-weight: bold\"> Non-trainable params: </span><span style=\"color: #00af00; text-decoration-color: #00af00\">0</span> (0.00 B)\n",
              "</pre>\n"
            ]
          },
          "metadata": {}
        }
      ]
    },
    {
      "cell_type": "code",
      "source": [
        "sampled_indices = tf.random.categorical(example_batch_predictions[0], num_samples=1)\n",
        "sampled_indices = tf.squeeze(sampled_indices, axis=-1).numpy()"
      ],
      "metadata": {
        "id": "6r8qWO-dskDV"
      },
      "execution_count": 28,
      "outputs": []
    },
    {
      "cell_type": "code",
      "source": [
        "sampled_indices"
      ],
      "metadata": {
        "colab": {
          "base_uri": "https://localhost:8080/"
        },
        "id": "Ig1ESo32slNK",
        "outputId": "2c5abdb7-5f3c-475e-81f3-3b705d142ddc"
      },
      "execution_count": 29,
      "outputs": [
        {
          "output_type": "execute_result",
          "data": {
            "text/plain": [
              "array([ 82,  74, 121,  78, 164,  93,  17,  92,  65,  76,  26, 141,  16,\n",
              "        40, 155,  94,  60, 113,  41,  24,  13,  30,  70,  58, 120, 140,\n",
              "       145, 130, 108,  24, 125,  93,  64,  11,  33,  65, 121,  88,  76,\n",
              "        68, 141, 137,  87,  83, 145,  83,  31,  24,   6,  31,  32,  10,\n",
              "        16, 135, 126,  26,  88,  91,  46, 164, 102, 143,  97,  71, 115,\n",
              "         8, 142,  77, 127,  28, 113, 138, 114, 125,  98, 129, 120, 130,\n",
              "        21,  27, 134,  37,  39,  82,  30,  25,   2,   0,  26, 147, 114,\n",
              "       144, 115, 150,  92,   4, 145,  72,   3,  93])"
            ]
          },
          "metadata": {},
          "execution_count": 29
        }
      ]
    },
    {
      "cell_type": "code",
      "source": [
        "print(\"Input:\\n\", text_from_ids(input_example_batch[0]).numpy())\n",
        "print()\n",
        "print(\"Next Char Predictions:\\n\", text_from_ids(sampled_indices).numpy())"
      ],
      "metadata": {
        "colab": {
          "base_uri": "https://localhost:8080/"
        },
        "id": "aj9AERU5smSt",
        "outputId": "cb322946-90b5-4cde-f2d8-5798518749ac"
      },
      "execution_count": 30,
      "outputs": [
        {
          "output_type": "stream",
          "name": "stdout",
          "text": [
            "Input:\n",
            " b' Specifically, we use the fact that the square of any real number is non-negative to establish the i'\n",
            "\n",
            "Next Char Predictions:\n",
            " b'qi\\xe2\\x82\\x82m\\xef\\xbc\\x9a|0{`k9\\xe2\\x88\\x88/G\\xe2\\x8a\\x86}[\\xcf\\x86H7,=eY\\xe2\\x82\\x81\\xe2\\x88\\x83\\xe2\\x88\\x9e\\xe2\\x84\\x82\\xce\\xb57\\xe2\\x82\\x86|_*@`\\xe2\\x82\\x82wkc\\xe2\\x88\\x88\\xe2\\x86\\x92vr\\xe2\\x88\\x9er>7%>?)/\\xe2\\x86\\x90\\xe2\\x82\\x879wzM\\xef\\xbc\\x9a\\xc3\\xa9\\xe2\\x88\\x91\\xc2\\xb0f\\xe2\\x80\\x93\\'\\xe2\\x88\\x8fl\\xe2\\x82\\x88;\\xcf\\x86\\xe2\\x86\\x94\\xe1\\xb6\\x9c\\xe2\\x82\\x86\\xc2\\xb1\\xe2\\x82\\x97\\xe2\\x82\\x81\\xe2\\x84\\x824:\\xe2\\x84\\xa4DFq=8 [UNK]9\\xe2\\x88\\xa7\\xe1\\xb6\\x9c\\xe2\\x88\\x9a\\xe2\\x80\\x93\\xe2\\x88\\xaa{\"\\xe2\\x88\\x9eg!|'\n"
          ]
        }
      ]
    },
    {
      "cell_type": "code",
      "source": [
        "loss = tf.losses.SparseCategoricalCrossentropy(from_logits=True)"
      ],
      "metadata": {
        "id": "uEQEfF79smvh"
      },
      "execution_count": 31,
      "outputs": []
    },
    {
      "cell_type": "code",
      "source": [
        "example_batch_mean_loss = loss(target_example_batch, example_batch_predictions)\n",
        "print(\"Prediction shape: \", example_batch_predictions.shape, \" # (batch_size, sequence_length, vocab_size)\")\n",
        "print(\"Mean loss:        \", example_batch_mean_loss)"
      ],
      "metadata": {
        "colab": {
          "base_uri": "https://localhost:8080/"
        },
        "id": "4b01wKk7soMm",
        "outputId": "da031764-93f4-492e-a3f4-ce2301155b4b"
      },
      "execution_count": 32,
      "outputs": [
        {
          "output_type": "stream",
          "name": "stdout",
          "text": [
            "Prediction shape:  (64, 100, 165)  # (batch_size, sequence_length, vocab_size)\n",
            "Mean loss:         tf.Tensor(5.1050487, shape=(), dtype=float32)\n"
          ]
        }
      ]
    },
    {
      "cell_type": "code",
      "source": [
        "tf.exp(example_batch_mean_loss).numpy()"
      ],
      "metadata": {
        "colab": {
          "base_uri": "https://localhost:8080/"
        },
        "id": "YyItCFXBspZA",
        "outputId": "201e50af-3a9a-4a87-8814-e8703e6c4b28"
      },
      "execution_count": 33,
      "outputs": [
        {
          "output_type": "execute_result",
          "data": {
            "text/plain": [
              "np.float32(164.8521)"
            ]
          },
          "metadata": {},
          "execution_count": 33
        }
      ]
    },
    {
      "cell_type": "code",
      "source": [
        "def plot_history(epochs_label, batch_size, history):\n",
        "  history_dict = history.history\n",
        "\n",
        "  loss = history_dict['loss']\n",
        "  val_loss = history_dict['val_loss']\n",
        "\n",
        "  epochs = range(1, len(loss) + 1)\n",
        "\n",
        "  plt.plot(epochs, loss, 'r', label='Training loss')\n",
        "  plt.plot(epochs, val_loss, 'b', label='Validation loss')\n",
        "  plt.title(f'LSTM with {epochs_label} epochs, batch size {batch_size}.')\n",
        "  plt.xlabel('Epochs')\n",
        "  plt.ylabel('Loss')\n",
        "  plt.legend(loc='lower right')\n",
        "\n",
        "  plt.show()"
      ],
      "metadata": {
        "id": "YDo_X0Tkzci1"
      },
      "execution_count": 34,
      "outputs": []
    },
    {
      "cell_type": "code",
      "source": [
        "batch_sizes = [16, 64]\n",
        "epochs = [3, 5]\n",
        "\n",
        "# Directory where the checkpoints will be saved\n",
        "checkpoint_dir = './training_checkpoints'\n",
        "\n",
        "param_grid = product(batch_sizes, epochs)\n",
        "results = []\n",
        "\n",
        "for batch_size, epochs in param_grid:\n",
        "    model = MyModel(\n",
        "      vocab_size=vocab_size,\n",
        "      embedding_dim=embedding_dim,\n",
        "      rnn_units=rnn_units\n",
        "    )\n",
        "    model.compile(optimizer='adam', loss=loss)\n",
        "\n",
        "    checkpoint_prefix = os.path.join(checkpoint_dir, f\"ckpt_{batch_size}_{epochs}\" + \"{epoch}.weights.h5\")\n",
        "    checkpoint_callback = tf.keras.callbacks.ModelCheckpoint(\n",
        "        filepath=checkpoint_prefix,\n",
        "        save_weights_only=True)\n",
        "\n",
        "    history = model.fit(train_dataset.batch(batch_size), validation_data=val_dataset.batch(batch_size), epochs=epochs, callbacks=[checkpoint_callback])\n",
        "    results.append((batch_size, epochs, history, model, checkpoint_prefix))\n",
        "    plot_history(epochs, batch_size, history)"
      ],
      "metadata": {
        "colab": {
          "base_uri": "https://localhost:8080/",
          "height": 1000
        },
        "id": "vkNgUBf_x359",
        "outputId": "19b863a9-1bc1-4be6-be37-f22f6f9038ea"
      },
      "execution_count": 37,
      "outputs": [
        {
          "output_type": "stream",
          "name": "stdout",
          "text": [
            "Epoch 1/3\n",
            "\u001b[1m2377/2377\u001b[0m \u001b[32m━━━━━━━━━━━━━━━━━━━━\u001b[0m\u001b[37m\u001b[0m \u001b[1m101s\u001b[0m 41ms/step - loss: 1.6206 - val_loss: 0.6509\n",
            "Epoch 2/3\n",
            "\u001b[1m2377/2377\u001b[0m \u001b[32m━━━━━━━━━━━━━━━━━━━━\u001b[0m\u001b[37m\u001b[0m \u001b[1m98s\u001b[0m 41ms/step - loss: 0.6176 - val_loss: 0.5823\n",
            "Epoch 3/3\n",
            "\u001b[1m2377/2377\u001b[0m \u001b[32m━━━━━━━━━━━━━━━━━━━━\u001b[0m\u001b[37m\u001b[0m \u001b[1m98s\u001b[0m 41ms/step - loss: 0.5380 - val_loss: 0.5579\n"
          ]
        },
        {
          "output_type": "display_data",
          "data": {
            "text/plain": [
              "<Figure size 640x480 with 1 Axes>"
            ],
            "image/png": "[encoded data removed]"
          },
          "metadata": {}
        },
        {
          "output_type": "stream",
          "name": "stdout",
          "text": [
            "Epoch 1/5\n",
            "\u001b[1m2377/2377\u001b[0m \u001b[32m━━━━━━━━━━━━━━━━━━━━\u001b[0m\u001b[37m\u001b[0m \u001b[1m101s\u001b[0m 41ms/step - loss: 1.6286 - val_loss: 0.6545\n",
            "Epoch 2/5\n",
            "\u001b[1m2377/2377\u001b[0m \u001b[32m━━━━━━━━━━━━━━━━━━━━\u001b[0m\u001b[37m\u001b[0m \u001b[1m98s\u001b[0m 41ms/step - loss: 0.6192 - val_loss: 0.5898\n",
            "Epoch 3/5\n",
            "\u001b[1m2377/2377\u001b[0m \u001b[32m━━━━━━━━━━━━━━━━━━━━\u001b[0m\u001b[37m\u001b[0m \u001b[1m98s\u001b[0m 41ms/step - loss: 0.5430 - val_loss: 0.5584\n",
            "Epoch 4/5\n",
            "\u001b[1m2377/2377\u001b[0m \u001b[32m━━━━━━━━━━━━━━━━━━━━\u001b[0m\u001b[37m\u001b[0m \u001b[1m142s\u001b[0m 41ms/step - loss: 0.4968 - val_loss: 0.5493\n",
            "Epoch 5/5\n",
            "\u001b[1m2377/2377\u001b[0m \u001b[32m━━━━━━━━━━━━━━━━━━━━\u001b[0m\u001b[37m\u001b[0m \u001b[1m98s\u001b[0m 41ms/step - loss: 0.4610 - val_loss: 0.5444\n"
          ]
        },
        {
          "output_type": "display_data",
          "data": {
            "text/plain": [
              "<Figure size 640x480 with 1 Axes>"
            ],
            "image/png": "[encoded data removed]"
          },
          "metadata": {}
        },
        {
          "output_type": "stream",
          "name": "stdout",
          "text": [
            "Epoch 1/3\n",
            "\u001b[1m595/595\u001b[0m \u001b[32m━━━━━━━━━━━━━━━━━━━━\u001b[0m\u001b[37m\u001b[0m \u001b[1m46s\u001b[0m 74ms/step - loss: 2.4107 - val_loss: 0.8109\n",
            "Epoch 2/3\n",
            "\u001b[1m595/595\u001b[0m \u001b[32m━━━━━━━━━━━━━━━━━━━━\u001b[0m\u001b[37m\u001b[0m \u001b[1m44s\u001b[0m 74ms/step - loss: 0.7550 - val_loss: 0.6573\n",
            "Epoch 3/3\n",
            "\u001b[1m595/595\u001b[0m \u001b[32m━━━━━━━━━━━━━━━━━━━━\u001b[0m\u001b[37m\u001b[0m \u001b[1m44s\u001b[0m 74ms/step - loss: 0.6285 - val_loss: 0.6085\n"
          ]
        },
        {
          "output_type": "display_data",
          "data": {
            "text/plain": [
              "<Figure size 640x480 with 1 Axes>"
            ],
            "image/png": "[encoded data removed]"
          },
          "metadata": {}
        },
        {
          "output_type": "stream",
          "name": "stdout",
          "text": [
            "Epoch 1/5\n",
            "\u001b[1m595/595\u001b[0m \u001b[32m━━━━━━━━━━━━━━━━━━━━\u001b[0m\u001b[37m\u001b[0m \u001b[1m47s\u001b[0m 74ms/step - loss: 2.4648 - val_loss: 0.8342\n",
            "Epoch 2/5\n",
            "\u001b[1m595/595\u001b[0m \u001b[32m━━━━━━━━━━━━━━━━━━━━\u001b[0m\u001b[37m\u001b[0m \u001b[1m44s\u001b[0m 74ms/step - loss: 0.7823 - val_loss: 0.6729\n",
            "Epoch 3/5\n",
            "\u001b[1m595/595\u001b[0m \u001b[32m━━━━━━━━━━━━━━━━━━━━\u001b[0m\u001b[37m\u001b[0m \u001b[1m44s\u001b[0m 74ms/step - loss: 0.6490 - val_loss: 0.6184\n",
            "Epoch 4/5\n",
            "\u001b[1m595/595\u001b[0m \u001b[32m━━━━━━━━━━━━━━━━━━━━\u001b[0m\u001b[37m\u001b[0m \u001b[1m44s\u001b[0m 73ms/step - loss: 0.5857 - val_loss: 0.5874\n",
            "Epoch 5/5\n",
            "\u001b[1m595/595\u001b[0m \u001b[32m━━━━━━━━━━━━━━━━━━━━\u001b[0m\u001b[37m\u001b[0m \u001b[1m83s\u001b[0m 75ms/step - loss: 0.5452 - val_loss: 0.5732\n"
          ]
        },
        {
          "output_type": "display_data",
          "data": {
            "text/plain": [
              "<Figure size 640x480 with 1 Axes>"
            ],
            "image/png": "[encoded data removed]"
          },
          "metadata": {}
        }
      ]
    },
    {
      "cell_type": "markdown",
      "source": [
        "As we can see, best results were derived using num epochs = 5 and batch size = 16. Other training setups got relatively similar results."
      ],
      "metadata": {
        "id": "32hfboPoRFTt"
      }
    },
    {
      "cell_type": "code",
      "source": [
        "class OneStep(tf.keras.Model):\n",
        "  def __init__(self, model, chars_from_ids, ids_from_chars, temperature=1.0):\n",
        "    super().__init__()\n",
        "    self.temperature = temperature\n",
        "    self.model = model\n",
        "    self.chars_from_ids = chars_from_ids\n",
        "    self.ids_from_chars = ids_from_chars\n",
        "\n",
        "    # Create a mask to prevent \"[UNK]\" from being generated.\n",
        "    skip_ids = self.ids_from_chars(['[UNK]'])[:, None]\n",
        "    sparse_mask = tf.SparseTensor(\n",
        "        # Put a -inf at each bad index.\n",
        "        values=[-float('inf')]*len(skip_ids),\n",
        "        indices=skip_ids,\n",
        "        # Match the shape to the vocabulary\n",
        "        dense_shape=[len(ids_from_chars.get_vocabulary())])\n",
        "    self.prediction_mask = tf.sparse.to_dense(sparse_mask)\n",
        "\n",
        "  @tf.function\n",
        "  def generate_one_step(self, inputs, strategy=\"temperature\", states=None):\n",
        "    # Convert strings to token IDs.\n",
        "    input_chars = tf.strings.unicode_split(inputs, 'UTF-8')\n",
        "    input_ids = self.ids_from_chars(input_chars).to_tensor()\n",
        "\n",
        "    # Run the model.\n",
        "    # predicted_logits.shape is [batch, char, next_char_logits]\n",
        "    predicted_logits, states = self.model(inputs=input_ids, states=states,\n",
        "                                          return_state=True)\n",
        "    # Only use the last prediction.\n",
        "    predicted_logits = predicted_logits[:, -1, :]\n",
        "\n",
        "    if strategy == \"temperature\":\n",
        "      # Temperature-sampling strategy\n",
        "      predicted_logits = predicted_logits/self.temperature\n",
        "      # Apply the prediction mask: prevent \"[UNK]\" from being generated.\n",
        "      predicted_logits = predicted_logits + self.prediction_mask\n",
        "      # Sample the output logits to generate token IDs.\n",
        "      predicted_ids = tf.random.categorical(predicted_logits, num_samples=1)\n",
        "      predicted_ids = tf.squeeze(predicted_ids, axis=-1)\n",
        "    elif strategy == \"greedy\":\n",
        "      # Greedy sampling\n",
        "      predicted_logits = predicted_logits/self.temperature\n",
        "      predicted_logits = predicted_logits + self.prediction_mask\n",
        "      # Sample the output logits to generate token IDs.\n",
        "      predicted_ids = tf.math.argmax(predicted_logits, -1)\n",
        "    elif strategy == \"beam\":\n",
        "      # Beam search\n",
        "      k = 3\n",
        "      depth = 3\n",
        "\n",
        "      predicted_logits = predicted_logits/self.temperature\n",
        "      predicted_logits = predicted_logits + self.prediction_mask\n",
        "\n",
        "      top_k_probs, top_k_ids = tf.math.top_k(predicted_logits, k=k)\n",
        "      branches = (tf.transpose(top_k_ids), tf.transpose(top_k_probs), [states] * k, [states] * k)\n",
        "\n",
        "      for i in range(depth):\n",
        "        next_iter_branches = None\n",
        "\n",
        "        for i in range(len(branches[2])):\n",
        "          followups, total_prob, states, init_states = branches[0][i, :], branches[1][i], branches[2][i], branches[3][i]\n",
        "\n",
        "          predicted_logits, states = self.model(inputs=followups[tf.newaxis, :], states=states, return_state=True)\n",
        "          predicted_logits = predicted_logits[:, -1, :]\n",
        "\n",
        "          predicted_logits = predicted_logits/self.temperature\n",
        "          predicted_logits = predicted_logits + self.prediction_mask\n",
        "\n",
        "          top_k_probs, top_k_ids = tf.math.top_k(predicted_logits, k=k)\n",
        "          probs = top_k_probs\n",
        "\n",
        "          top_k_ids = tf.transpose(top_k_ids)\n",
        "          longer_followups = tf.stack([tf.concat([followups, top_k_ids[i, :]], 0) for i in range(k)])\n",
        "          new_branch = (longer_followups, tf.transpose(probs * total_prob), [states] * k, [init_states] * k)\n",
        "          next_iter_branches = new_branch if next_iter_branches is None else (\n",
        "            tf.concat([next_iter_branches[0], new_branch[0]], 0),\n",
        "            tf.concat([next_iter_branches[1], new_branch[1]], 0),\n",
        "            next_iter_branches[2] + new_branch[2],\n",
        "            next_iter_branches[3] + new_branch[3]\n",
        "          )\n",
        "\n",
        "        branches = next_iter_branches\n",
        "\n",
        "      best_result = tf.math.argmax(branches[1])\n",
        "      predicted_ids = tf.gather(branches[0], best_result)[:, 0]\n",
        "      predicted_ids = tf.reshape(predicted_ids, [-1])\n",
        "      states = tf.gather(tf.stack(branches[3]), best_result)\n",
        "      states = [states[0, 0], states[0, 1]]\n",
        "\n",
        "    # Convert from token ids to characters\n",
        "    predicted_chars = self.chars_from_ids(predicted_ids)\n",
        "\n",
        "    # Return the characters and model state.\n",
        "    return predicted_chars, states"
      ],
      "metadata": {
        "id": "fm0ODCbtswkx"
      },
      "execution_count": 38,
      "outputs": []
    },
    {
      "cell_type": "code",
      "source": [
        "for batch_size, epochs, history, model, checkpoint_prefix in results:\n",
        "  one_step_model = OneStep(model, chars_from_ids, ids_from_chars)\n",
        "\n",
        "  for strategy in [\"greedy\", \"temperature\", \"beam\"]:\n",
        "    start = time.time()\n",
        "    states = None\n",
        "    next_char = tf.constant([\"Let's prove that you're wrong\"])\n",
        "    result = [next_char]\n",
        "\n",
        "    for n in range(250):\n",
        "      next_char, states = one_step_model.generate_one_step(next_char, strategy=strategy, states=states)\n",
        "      result.append(next_char)\n",
        "\n",
        "    result = tf.strings.join(result)\n",
        "    end = time.time()\n",
        "    print(result[0].numpy().decode('utf-8'), '\\n\\n' + '_'*80)\n",
        "    print('\\nRun time:', end - start)\n",
        "    print(\"\\n\")"
      ],
      "metadata": {
        "colab": {
          "base_uri": "https://localhost:8080/"
        },
        "id": "PboT6i76s1lc",
        "outputId": "669e456c-7074-4744-d9cf-31737854e455"
      },
      "execution_count": 39,
      "outputs": [
        {
          "output_type": "stream",
          "name": "stdout",
          "text": [
            "Let's prove that you're wronget $a\\leq b\\leq a\\leq b\\leq a\\leq b\\leq a\\leq b\\leq a\\leq b\\leq a\\leq b\\leq a\\leq b\\leq a\\leq b\\leq a\\leq b\\leq a\\leq b\\leq a\\leq b\\leq a\\leq b\\leq a\\leq b\\leq a\\leq b\\leq a\\leq b\\leq a\\leq b\\leq a\\leq b\\leq a\\leq b\\leq a\\leq b\\leq a\\leq b\\leq a\\leq  \n",
            "\n",
            "________________________________________________________________________________\n",
            "\n",
            "Run time: 1.6544711589813232\n",
            "\n",
            "\n",
            "Let's prove that you're wronged as:\n",
            "  \\[\n",
            "  3(abc)^2 \\geq 9abc(a+b+c) - 3(a+b+c)^3. -/\n",
            "theorem lean_workbook_18290 (a b c : ℝ) (hx: a > 0 ∧ b > 0 ∧ c > 0) (hab : 1 ≤ a ∧ a + a + 1 / 2 ∧ b = 165) : (a + b) ^ 3 + (a + b) ^ 2 ≥ 0  := by\n",
            "  /-\n",
            "  Given \\(abc = 1\\), we can use the prope \n",
            "\n",
            "________________________________________________________________________________\n",
            "\n",
            "Run time: 0.8797323703765869\n",
            "\n",
            "\n",
            "Let's prove that you're wronget:\n",
            "     \\]\n",
            "     Substituting this:\n",
            "     \\[\n",
            "     \\frac{1}{\\frac{1}{x^2} + \\frac{1}{y^2} + \\frac{1}{z^2}}\n",
            "  \\]\n",
            "\n",
            "import Mathlib\n",
            "\n",
            "import Mathlib\n",
            "import Aesop\n",
            "\n",
            "set_option maxHeartbeats 0\n",
            "\n",
            "open BigOperators Real Nat Topology Rat\n",
            "\n",
            "/- Prove that:\n",
            "     \\[\n",
            "   \n",
            "\n",
            "________________________________________________________________________________\n",
            "\n",
            "Run time: 25.81624722480774\n",
            "\n",
            "\n",
            "Let's prove that you're wrongre and the constant function of the first \\( n+1 \\) is equivalent to \\( n \\cdot n \\cdot n \\cdot n \\cdot n \\cdot n \\cdot n \\cdot (n + 1) \\).\n",
            "  1. Start by simplifying the expression using algebraic manipulations.\n",
            "  2. **Apply non-negativity of the ter \n",
            "\n",
            "________________________________________________________________________________\n",
            "\n",
            "Run time: 0.8392512798309326\n",
            "\n",
            "\n",
            "Let's prove that you're wronger when x = m.\n",
            "  norm_num [the given sum is n ≥ 5uldo) trivial statement.\n",
            "  <;> ring\n",
            "\n",
            "import Mathlib\n",
            "import Aesop\n",
            "\n",
            "set_option maxHeartbeats 0\n",
            "\n",
            "open BigOperators Real Nat Topology Rat\n",
            "\n",
            "/- For any $x \\ge 0$ using Perime! that states $f$ gives \\n $ 8\\ph \n",
            "\n",
            "________________________________________________________________________________\n",
            "\n",
            "Run time: 0.9370853900909424\n",
            "\n",
            "\n",
            "Let's prove that you're wrongry substitution,\n",
            "  ring\n",
            "\n",
            "import Mathlib\n",
            "\n",
            "import Mathlib\n",
            "\n",
            "import Mathlib\n",
            "\n",
            "import Mathlib\n",
            "\n",
            "import Mathlib\n",
            "\n",
            "import Mathlib\n",
            "\n",
            "import Mathlib\n",
            "\n",
            "import Mathlib\n",
            "\n",
            "import Mathlib\n",
            "\n",
            "import Mathlib\n",
            "\n",
            "import Mathlib\n",
            "\n",
            "import Mathlib\n",
            "\n",
            "import Mathlib\n",
            "\n",
            "import Mathlib\n",
            "\n",
            "i \n",
            "\n",
            "________________________________________________________________________________\n",
            "\n",
            "Run time: 22.739625692367554\n",
            "\n",
            "\n",
            "Let's prove that you're wrong that $ \\frac{1}{2} \\left( \\frac{1}{2} \\right) \\left( {{a^2 + 2} + \\frac{1}{b + 1} + \\frac{1}{b + 1} + \\frac{1}{c + 1} \\ge \\frac{1}{2} \\]\n",
            "  To prove this, we use the fact that \\( a + b + c = 1 \\), we need to show that \\( a^2 + b^2 + c^2 \\geq ab + bc  \n",
            "\n",
            "________________________________________________________________________________\n",
            "\n",
            "Run time: 0.8256921768188477\n",
            "\n",
            "\n",
            "Let's prove that you're wronget we anow that \\n $ \\dfrac{2+3b+5}{23}}+\\frac{3a^{5}}{2}}$ when $a^7 + 5a = 3\\). 46abc\\left(1+d^4+3u$ \\n\\n\\n $4a^2+2b^2+19.2a +12b+65455352622^3.$ θna. Squalowy It $\\frac{127+155}{8116}$. -/\n",
            "theorem lean_workbook_11383 (a b : ℝ) (hb : 1 < d) : (2 *  \n",
            "\n",
            "________________________________________________________________________________\n",
            "\n",
            "Run time: 1.0493876934051514\n",
            "\n",
            "\n",
            "Let's prove that you're wrong that:\n",
            "  \\[\n",
            "  \\frac{x + y + z}{x + y} + \\frac{z^2}{z} + \\frac{x + y + z} + \\frac{z^2}{z} + \\frac{z^2}{z + xy}\n",
            "  \\]\n",
            "\n",
            "import Mathlib\n",
            "\n",
            "import Mathlib\n",
            "\n",
            "import Mathlib\n",
            "\n",
            "import Mathlib\n",
            "\n",
            "import Mathlib\n",
            "\n",
            "import Mathlib\n",
            "\n",
            "import Mathlib\n",
            "\n",
            "import Mathlib\n",
            "\n",
            "import \n",
            "\n",
            "________________________________________________________________________________\n",
            "\n",
            "Run time: 23.160045623779297\n",
            "\n",
            "\n",
            "Let's prove that you're wronger of the form \\(x\\) and \\(y\\).\n",
            "  -/\n",
            "  -- Use the non-negativity of squares to establish the inequality.\n",
            "  -- We provide several non-negative terms to help nlinarith derive the desired inequality.\n",
            "  -/\n",
            "  -- Use non-linear arithmetic to prove the ineq \n",
            "\n",
            "________________________________________________________________________________\n",
            "\n",
            "Run time: 1.0262155532836914\n",
            "\n",
            "\n",
            "Let's prove that you're wronge is in the number is non-negative decuses the equations for any number soulding the theorem.mus. We need to show that \\( 3xyz + 3 \\ge (x + y + z)^2 \\).\n",
            "  1. **First Inequalities using the given squares and properties of real non-negative squares**:\n",
            " \n",
            "\n",
            "________________________________________________________________________________\n",
            "\n",
            "Run time: 1.1973052024841309\n",
            "\n",
            "\n",
            "Let's prove that you're wrong that:\n",
            "  \\[\n",
            "  \\frac{x^2}{y^2 + z^2} + \\frac{y^2}{z^2} + \\frac{y^2}{z^2} + \\frac{y^2}{z^2} + \\frac{y^2}{z^2} + \\frac{z^3}{y^2 + z^2}}\n",
            "  \\]\n",
            "\n",
            "import Mathlib\n",
            "\n",
            "import Real Nat Topology Rat\n",
            "\n",
            "/- Prove:\n",
            "  \\]\n",
            "\n",
            "import Mathlib\n",
            "\n",
            "import Real Nat Topology Rat\n",
            "\n",
            "/-  \n",
            "\n",
            "________________________________________________________________________________\n",
            "\n",
            "Run time: 21.92793107032776\n",
            "\n",
            "\n"
          ]
        }
      ]
    },
    {
      "cell_type": "markdown",
      "source": [
        "Greedy decoding produces highly repetitive output that gets stuck in a loop, such as \"a ≤ b ≤ a ≤ b ≤ ...\". This behavior is typical for greedy search because it always picks the most likely next character without considering future context. As a result, it tends to fall into short high-probability cycles. While it’s fast (1.65s in our case), it lacks creativity and diversity, making it a poor choice for generating complex, structured text (not to mention math) or proofs where coherence over longer spans is crucial.\n",
        "\n",
        "Temperature sampling results are more diverse and realistic. It includes math-like expressions and even well-formed theorem statements , LaTeX-style formatting, and logical explanations like \"Given abc=1...\". This method introduces controlled randomness, which helps escape greedy loops and explore more meaningful sequences. It balances quality and creativity effectively, especially around a temperature of 1.0. Runtime is fast (~0.8–1.2s), making it efficient while yielding strong outputs that closely resemble real Lean math theorems or educational content.\n",
        "\n",
        "Beam search, in theory, should outperform both greedy and temperature sampling by exploring multiple high-probability paths and selecting the best complete sequence. However, in our implementation, it underperforms. The generated content is erratic or redundant (import Mathlib repeated excessively), contains disjointed or corrupted math expressions, and fails to maintain logical coherence. The likely reasons include shallow search depth (depth = 3), too few beams (k = 3), and the fact that our beam search combines logits multiplicatively over steps, which can heavily penalize slightly less probable but semantically richer sequences. Additionally, since the decoder operates char-by-char, short token contexts may not be informative enough to guide beam search effectively. Beam decoding also took significantly longer (up to 25s), making it less computationally efficient."
      ],
      "metadata": {
        "id": "XJ4VFMRBT8VA"
      }
    }
  ]
}