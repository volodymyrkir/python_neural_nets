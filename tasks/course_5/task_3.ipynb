{
 "cells": [
  {
   "cell_type": "code",
   "id": "6bc0fd16",
   "metadata": {
    "ExecuteTime": {
     "end_time": "2025-05-04T12:27:31.698147Z",
     "start_time": "2025-05-04T12:27:27.519243Z"
    }
   },
   "source": [
    "import os\n",
    "\n",
    "import torchvision.transforms as T\n",
    "from torchvision.datasets import VOCDetection\n",
    "from torch.utils.data import DataLoader\n",
    "from torchvision.models.detection import FasterRCNN\n",
    "from torchvision.models.detection.rpn import AnchorGenerator\n",
    "import torchvision\n",
    "import torch\n",
    "import torch.optim as optim\n",
    "from torch.cuda.amp import autocast, GradScaler\n",
    "\n",
    "torch.backends.cudnn.benchmark = True"
   ],
   "outputs": [],
   "execution_count": 2
  },
  {
   "cell_type": "code",
   "id": "5d99d41b",
   "metadata": {
    "ExecuteTime": {
     "end_time": "2025-05-04T12:28:30.498220Z",
     "start_time": "2025-05-04T12:27:31.700256Z"
    }
   },
   "source": [
    "NUM_CPU = os.cpu_count()\n",
    "print(NUM_CPU)\n",
    "\n",
    "transform = T.Compose([\n",
    "    T.Resize((224, 224)),\n",
    "    T.ToTensor(),\n",
    "    T.Normalize(mean=[0.485, 0.456, 0.406],\n",
    "                std=[0.229, 0.224, 0.225])\n",
    "])\n",
    "\n",
    "voc_classes = ['background', 'aeroplane', 'bicycle', 'bird', 'boat',\n",
    "               'bottle', 'bus', 'car', 'cat', 'chair', 'cow', 'diningtable',\n",
    "               'dog', 'horse', 'motorbike', 'person', 'pottedplant',\n",
    "               'sheep', 'sofa', 'train', 'tvmonitor']\n",
    "\n",
    "voc_class_to_id = {name: i for i, name in enumerate(voc_classes)}\n",
    "\n",
    "\n",
    "def target_transform(voc_dict):\n",
    "    anno = voc_dict['annotation']\n",
    "    boxes = []\n",
    "    labels = []\n",
    "\n",
    "    for obj in anno['object']:\n",
    "        bbox = obj['bndbox']\n",
    "        boxes.append([\n",
    "            int(bbox['xmin']),\n",
    "            int(bbox['ymin']),\n",
    "            int(bbox['xmax']),\n",
    "            int(bbox['ymax'])\n",
    "        ])\n",
    "        labels.append(voc_class_to_id[obj['name']])\n",
    "\n",
    "    return {\n",
    "        'boxes': torch.tensor(boxes, dtype=torch.float32),\n",
    "        'labels': torch.tensor(labels, dtype=torch.int64)\n",
    "    }\n",
    "\n",
    "dataset = VOCDetection(\n",
    "    root='data/',\n",
    "    year='2012',\n",
    "    image_set='train',\n",
    "    download=True,\n",
    "    transform=transform,\n",
    "    target_transform=target_transform \n",
    ")\n"
   ],
   "outputs": [
    {
     "name": "stdout",
     "output_type": "stream",
     "text": [
      "8\n"
     ]
    }
   ],
   "execution_count": 3
  },
  {
   "metadata": {
    "ExecuteTime": {
     "end_time": "2025-05-04T12:28:30.513472Z",
     "start_time": "2025-05-04T12:28:30.500300Z"
    }
   },
   "cell_type": "code",
   "source": [
    "dataloader = DataLoader(\n",
    "    dataset,\n",
    "    batch_size=8,\n",
    "    shuffle=True,\n",
    "    num_workers=NUM_CPU,        \n",
    "    pin_memory=True,\n",
    "    collate_fn=lambda batch: (list(zip(*batch))[0], list(zip(*batch))[1])\n",
    ")"
   ],
   "id": "427df5fb7df40cb4",
   "outputs": [],
   "execution_count": 4
  },
  {
   "metadata": {
    "ExecuteTime": {
     "end_time": "2025-05-04T12:28:31.397983Z",
     "start_time": "2025-05-04T12:28:30.516464Z"
    }
   },
   "cell_type": "code",
   "source": [
    "backbone = torchvision.models.mobilenet_v2(pretrained=True).features\n",
    "backbone.out_channels = 1280\n",
    "\n",
    "anchor_generator = AnchorGenerator(sizes=((32, 64, 128, 256, 512),),\n",
    "                                   aspect_ratios=((0.5, 1.0, 2.0),) * 5)\n",
    "\n",
    "roi_pooler = torchvision.ops.MultiScaleRoIAlign(featmap_names=['0'],\n",
    "                                                output_size=7,\n",
    "                                                sampling_ratio=2)\n",
    "\n",
    "model = FasterRCNN(backbone,\n",
    "                   num_classes=21,  # 20 класів + фон\n",
    "                   rpn_anchor_generator=anchor_generator,\n",
    "                   box_roi_pool=roi_pooler)"
   ],
   "id": "851056a4cc1149df",
   "outputs": [
    {
     "name": "stderr",
     "output_type": "stream",
     "text": [
      "C:\\Users\\volodymyr\\.virtualenvs\\computational_intelligence-ab0f9zpH\\lib\\site-packages\\torchvision\\models\\_utils.py:208: UserWarning: The parameter 'pretrained' is deprecated since 0.13 and may be removed in the future, please use 'weights' instead.\n",
      "  warnings.warn(\n",
      "C:\\Users\\volodymyr\\.virtualenvs\\computational_intelligence-ab0f9zpH\\lib\\site-packages\\torchvision\\models\\_utils.py:223: UserWarning: Arguments other than a weight enum or `None` for 'weights' are deprecated since 0.13 and may be removed in the future. The current behavior is equivalent to passing `weights=MobileNet_V2_Weights.IMAGENET1K_V1`. You can also use `weights=MobileNet_V2_Weights.DEFAULT` to get the most up-to-date weights.\n",
      "  warnings.warn(msg)\n"
     ]
    }
   ],
   "execution_count": 5
  },
  {
   "metadata": {},
   "cell_type": "markdown",
   "source": "Налаштуємо оптимізатор, scheduler та проведемо дотренування моделі:",
   "id": "f52a26e460a3e4e2"
  },
  {
   "metadata": {
    "jupyter": {
     "is_executing": true
    },
    "ExecuteTime": {
     "start_time": "2025-05-04T12:28:31.399664Z"
    }
   },
   "cell_type": "code",
   "source": [
    "params = [p for p in model.parameters() if p.requires_grad]\n",
    "\n",
    "optimizer = optim.SGD(params, lr=0.005, momentum=0.9, weight_decay=0.0005)\n",
    "\n",
    "# Scheduler для зменшення коефіцієнта навчання\n",
    "lr_scheduler = optim.lr_scheduler.StepLR(optimizer, step_size=3, gamma=0.1)\n",
    "\n",
    "device = torch.device('cuda' if torch.cuda.is_available() else 'cpu')\n",
    "model.to(device)\n",
    "\n",
    "num_epochs = 10\n",
    "scaler = GradScaler()                     \n",
    "optimizer = torch.optim.SGD(\n",
    "    [p for p in model.parameters() if p.requires_grad],\n",
    "    lr=0.005, momentum=0.9, weight_decay=0.0005\n",
    ")\n",
    "lr_scheduler = torch.optim.lr_scheduler.StepLR(optimizer, step_size=3, gamma=0.1)\n",
    "\n",
    "for epoch in range(num_epochs):\n",
    "    print(f'Epoch {epoch+1}/{num_epochs}')\n",
    "    model.train()\n",
    "    running_loss = 0.0\n",
    "\n",
    "    for i, (images, targets) in enumerate(dataloader):\n",
    "        print(i)\n",
    "        images = [img.to(device) for img in images]                   \n",
    "        targets = [{k: v.to(device) for k, v in t.items()} for t in targets]\n",
    "\n",
    "        optimizer.zero_grad()\n",
    "        with autocast():                                               \n",
    "            loss_dict = model(images, targets)\n",
    "            losses = sum(loss for loss in loss_dict.values())\n",
    "\n",
    "        scaler.scale(losses).backward()\n",
    "        scaler.step(optimizer)\n",
    "        scaler.update()                                               \n",
    "\n",
    "        running_loss += losses.item()\n",
    "        if (i + 1) % 10 == 0:\n",
    "            print(f\"Step {i+1}/{len(dataloader)}, Loss: {losses.item():.4f}\")\n",
    "\n",
    "    lr_scheduler.step()\n",
    "    avg_loss = running_loss / len(dataloader)\n",
    "    print(f\"Epoch {epoch+1} done. Avg Loss: {avg_loss:.4f}\\n\")"
   ],
   "id": "fbd993aac17501cc",
   "outputs": [
    {
     "name": "stderr",
     "output_type": "stream",
     "text": [
      "C:\\Users\\volodymyr\\AppData\\Local\\Temp\\ipykernel_2260\\3419892842.py:12: FutureWarning: `torch.cuda.amp.GradScaler(args...)` is deprecated. Please use `torch.amp.GradScaler('cuda', args...)` instead.\n",
      "  scaler = GradScaler()\n",
      "C:\\Users\\volodymyr\\.virtualenvs\\computational_intelligence-ab0f9zpH\\lib\\site-packages\\torch\\amp\\grad_scaler.py:136: UserWarning: torch.cuda.amp.GradScaler is enabled, but CUDA is not available.  Disabling.\n",
      "  warnings.warn(\n",
      "C:\\Users\\volodymyr\\.virtualenvs\\computational_intelligence-ab0f9zpH\\lib\\site-packages\\torch\\utils\\data\\dataloader.py:665: UserWarning: 'pin_memory' argument is set as true but no accelerator is found, then device pinned memory won't be used.\n",
      "  warnings.warn(warn_msg)\n"
     ]
    },
    {
     "name": "stdout",
     "output_type": "stream",
     "text": [
      "Epoch 1/10\n"
     ]
    }
   ],
   "execution_count": null
  },
  {
   "metadata": {
    "jupyter": {
     "is_executing": true
    }
   },
   "cell_type": "code",
   "source": "",
   "id": "bfcb13e24b893122",
   "outputs": [],
   "execution_count": null
  }
 ],
 "metadata": {
  "kernelspec": {
   "display_name": "anns",
   "language": "python",
   "name": "python3"
  },
  "language_info": {
   "codemirror_mode": {
    "name": "ipython",
    "version": 3
   },
   "file_extension": ".py",
   "mimetype": "text/x-python",
   "name": "python",
   "nbconvert_exporter": "python",
   "pygments_lexer": "ipython3",
   "version": "3.10.14"
  }
 },
 "nbformat": 4,
 "nbformat_minor": 5
}
